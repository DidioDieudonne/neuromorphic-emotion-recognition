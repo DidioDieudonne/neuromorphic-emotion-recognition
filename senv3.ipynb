{
 "cells": [
  {
   "cell_type": "markdown",
   "id": "de87a7b1",
   "metadata": {},
   "source": [
    "# NOTEBOOK D'ENTRAÎNEMENT D'UN SNN AVEC UN CNN PRÉ-ENTRAÎNÉ SUR FER2013"
   ]
  },
  {
   "cell_type": "markdown",
   "id": "7c3f8459",
   "metadata": {},
   "source": [
    "# 1. IMPORTS ET CONFIGURATION"
   ]
  },
  {
   "cell_type": "code",
   "execution_count": null,
   "id": "dcb34317",
   "metadata": {},
   "outputs": [
    {
     "name": "stdout",
     "output_type": "stream",
     "text": [
      " SIMPLE SNN TRAINING NOTEBOOK\n",
      "==================================================\n",
      " Démarré le: 2025-08-24 00:54:41\n",
      "==================================================\n"
     ]
    }
   ],
   "source": [
    "\n",
    "import numpy as np\n",
    "import torch\n",
    "import torch.nn as nn\n",
    "import torchvision.transforms as transforms\n",
    "from torchvision.datasets import ImageFolder\n",
    "from torch.utils.data import DataLoader, WeightedRandomSampler\n",
    "from sklearn.metrics import classification_report, confusion_matrix, f1_score\n",
    "import matplotlib.pyplot as plt\n",
    "import seaborn as sns\n",
    "from collections import Counter\n",
    "import time\n",
    "import os\n",
    "from tqdm import tqdm\n",
    "import warnings\n",
    "import json\n",
    "from datetime import datetime\n",
    "\n",
    "# Configuration warnings\n",
    "warnings.filterwarnings('ignore')\n",
    "\n",
    "# Fix numpy compatibility\n",
    "np.int = int\n",
    "\n",
    "# Configuration matplotlib\n",
    "plt.rcParams['figure.figsize'] = (12, 8)\n",
    "plt.rcParams['font.size'] = 10\n",
    "\n",
    "print(\" SIMPLE SNN TRAINING NOTEBOOK\")\n",
    "print(\"=\" * 50)\n",
    "print(f\" Démarré le: {datetime.now().strftime('%Y-%m-%d %H:%M:%S')}\")\n",
    "print(\"=\" * 50)"
   ]
  },
  {
   "cell_type": "code",
   "execution_count": 3,
   "id": "44d23d1e",
   "metadata": {},
   "outputs": [
    {
     "name": "stdout",
     "output_type": "stream",
     "text": [
      " GPU détecté: NVIDIA GeForce RTX 3050 6GB Laptop GPU\n",
      " Limite de puissance: 95W\n",
      " Mémoire totale: 6.0GB\n",
      " Monitoring énergétique activé avec PyNVML\n"
     ]
    }
   ],
   "source": [
    "# =============================================================================\n",
    "# CONFIGURATION GPU ET MONITORING ÉNERGÉTIQUE  \n",
    "# =============================================================================\n",
    "\n",
    "# Configuration GPU et monitoring énergétique avec PyNVML\n",
    "try:\n",
    "    import pynvml\n",
    "    pynvml.nvmlInit()\n",
    "    gpu_handle = pynvml.nvmlDeviceGetHandleByIndex(0)\n",
    "    gpu_monitoring = True\n",
    "    \n",
    "    def get_gpu_power_usage():\n",
    "        \"\"\"Retourne la consommation GPU actuelle en watts\"\"\"\n",
    "        return pynvml.nvmlDeviceGetPowerUsage(gpu_handle) / 1000  # Conversion mW -> W\n",
    "    \n",
    "    def get_gpu_memory_usage():\n",
    "        \"\"\"Retourne l'utilisation mémoire GPU en GB\"\"\"\n",
    "        info = pynvml.nvmlDeviceGetMemoryInfo(gpu_handle)\n",
    "        return info.used / 1024**3  # Conversion bytes -> GB\n",
    "    \n",
    "    def get_gpu_info():\n",
    "        \"\"\"Affiche les informations GPU\"\"\"\n",
    "        # Correction : gestion du nom GPU pour toutes les versions de PyNVML\n",
    "        gpu_name_raw = pynvml.nvmlDeviceGetName(gpu_handle)\n",
    "        if isinstance(gpu_name_raw, bytes):\n",
    "            name = gpu_name_raw.decode('utf-8')\n",
    "        else:\n",
    "            name = gpu_name_raw  # Déjà une string dans les versions récentes\n",
    "            \n",
    "        power_limit = pynvml.nvmlDeviceGetPowerManagementLimitConstraints(gpu_handle)[1] / 1000\n",
    "        memory_info = pynvml.nvmlDeviceGetMemoryInfo(gpu_handle)\n",
    "        total_memory = memory_info.total / 1024**3\n",
    "        \n",
    "        print(f\" GPU détecté: {name}\")\n",
    "        print(f\" Limite de puissance: {power_limit:.0f}W\")\n",
    "        print(f\" Mémoire totale: {total_memory:.1f}GB\")\n",
    "        return name, power_limit, total_memory\n",
    "    \n",
    "    # Affichage des informations GPU\n",
    "    gpu_name, power_limit, total_memory = get_gpu_info()\n",
    "    print(\" Monitoring énergétique activé avec PyNVML\")\n",
    "    \n",
    "except ImportError:\n",
    "    print(\"  PyNVML non disponible, monitoring énergétique désactivé\")\n",
    "    print(\"   Installation: pip install nvidia-ml-py3\")\n",
    "    gpu_monitoring = False\n",
    "    \n",
    "    def get_gpu_power_usage():\n",
    "        return 0\n",
    "    \n",
    "    def get_gpu_memory_usage():\n",
    "        return 0\n",
    "        \n",
    "except Exception as e:\n",
    "    print(f\"  Erreur PyNVML: {e}\")\n",
    "    print(\"   Le monitoring énergétique sera désactivé\")\n",
    "    gpu_monitoring = False\n",
    "    \n",
    "    def get_gpu_power_usage():\n",
    "        return 0\n",
    "    \n",
    "    def get_gpu_memory_usage():\n",
    "        return 0"
   ]
  },
  {
   "cell_type": "code",
   "execution_count": null,
   "id": "7cc3ee59",
   "metadata": {},
   "outputs": [
    {
     "name": "stdout",
     "output_type": "stream",
     "text": [
      " Import du module snn_simple...\n",
      " Modèles importés avec succès\n",
      "   PyTorch version: 2.5.1\n",
      "   CUDA disponible: True\n",
      "   GPU actuel: NVIDIA GeForce RTX 3050 6GB Laptop GPU\n",
      "\n",
      " Test des modèles...\n",
      "🔍 Test de fonctionnement des modèles...\n",
      "\n",
      "    Test ANN Baseline:\n",
      "🔧 Création du modèle ANN baseline...\n",
      "✅ Modèle ANN baseline créé\n",
      "   Paramètres totaux: 102,119\n",
      "   Paramètres entraînables: 102,119\n",
      "   Classes: 7\n",
      "      Input: torch.Size([4, 1, 48, 48]) -> Output: torch.Size([4, 7])\n",
      "      ANN test réussi\n",
      "\n",
      "    Test Ultra Simple SNN:\n",
      "🔧 Création du modèle SNN (ultra_simple)...\n",
      " Modèle SNN créé avec succès\n",
      "   Architecture: ultra_simple\n",
      "   Paramètres totaux: 5,216\n",
      "   Paramètres entraînables: 5,216\n",
      "   Classes: 7\n",
      "   Pas temporels: 6\n",
      "   ⚡ Paramètres tau: tous > 1.0 (SpikingJelly compatible)\n",
      "      Input: torch.Size([4, 1, 48, 48]) -> Output: torch.Size([4, 7])\n",
      "      Ultra SNN test réussi\n",
      "\n",
      "    Test Simple SNN:\n",
      "🔧 Création du modèle SNN (simple)...\n",
      " Modèle SNN créé avec succès\n",
      "   Architecture: simple\n",
      "   Paramètres totaux: 430,240\n",
      "   Paramètres entraînables: 430,240\n",
      "   Classes: 7\n",
      "   Pas temporels: 8\n",
      "   ⚡ Paramètres tau: tous > 1.0 (SpikingJelly compatible)\n",
      "      Input: torch.Size([4, 1, 48, 48]) -> Output: torch.Size([4, 7])\n",
      "       Simple SNN test réussi\n",
      "\n",
      " Tous les tests sont passés avec succès !\n",
      "   ⚡ Tous les paramètres tau sont > 1.0\n",
      "   Les modèles sont prêts pour l'entraînement\n",
      " Tous les modèles fonctionnent correctement\n",
      "\n",
      " Test supplémentaire de création des modèles...\n",
      "🔧 Création du modèle SNN (simple)...\n",
      " Modèle SNN créé avec succès\n",
      "   Architecture: simple\n",
      "   Paramètres totaux: 430,240\n",
      "   Paramètres entraînables: 430,240\n",
      "   Classes: 7\n",
      "   Pas temporels: 8\n",
      "   ⚡ Paramètres tau: tous > 1.0 (SpikingJelly compatible)\n",
      "🔧 Création du modèle ANN baseline...\n",
      "✅ Modèle ANN baseline créé\n",
      "   Paramètres totaux: 102,119\n",
      "   Paramètres entraînables: 102,119\n",
      "   Classes: 7\n",
      "   SNN output shape: torch.Size([2, 7])\n",
      "   ANN output shape: torch.Size([2, 7])\n",
      "    Test supplémentaire réussi\n",
      "\n",
      " Import et tests terminés avec succès!\n",
      "    Les modèles sont prêts pour l'entraînement\n"
     ]
    }
   ],
   "source": [
    "# =============================================================================  \n",
    "# 2. IMPORT DES MODÈLES ET TEST INITIAL\n",
    "# =============================================================================\n",
    "\n",
    "import torch\n",
    "import traceback\n",
    "\n",
    "# Import des modèles créés\n",
    "try:\n",
    "    print(\" Import du module snn_simple...\")\n",
    "    \n",
    "    from snn_model import (\n",
    "        create_simple_snn,\n",
    "        create_baseline_ann, \n",
    "        reset_snn_state,\n",
    "        test_models,\n",
    "        get_model_info\n",
    "    )\n",
    "    print(\" Modèles importés avec succès\")\n",
    "    \n",
    "    # Vérification des versions\n",
    "    print(f\"   PyTorch version: {torch.__version__}\")\n",
    "    print(f\"   CUDA disponible: {torch.cuda.is_available()}\")\n",
    "    if torch.cuda.is_available():\n",
    "        print(f\"   GPU actuel: {torch.cuda.get_device_name()}\")\n",
    "    \n",
    "    # Test rapide des modèles avec diagnostic détaillé\n",
    "    print(\"\\n Test des modèles...\")\n",
    "    \n",
    "    try:\n",
    "        models_ok = test_models()\n",
    "        \n",
    "        if models_ok:\n",
    "            print(\" Tous les modèles fonctionnent correctement\")\n",
    "            \n",
    "            # Test supplémentaire pour s'assurer que tout fonctionne\n",
    "            print(\"\\n Test supplémentaire de création des modèles...\")\n",
    "            \n",
    "            # Création et test rapide des modèles\n",
    "            snn_model = create_simple_snn(\"simple\", num_classes=7, num_timesteps=8)\n",
    "            ann_model = create_baseline_ann(num_classes=7)\n",
    "            \n",
    "            # Test avec un petit batch\n",
    "            test_batch = torch.randn(2, 1, 48, 48)\n",
    "            with torch.no_grad():\n",
    "                snn_out = snn_model(test_batch)\n",
    "                ann_out = ann_model(test_batch)\n",
    "                \n",
    "            print(f\"   SNN output shape: {snn_out.shape}\")\n",
    "            print(f\"   ANN output shape: {ann_out.shape}\")\n",
    "            print(\"    Test supplémentaire réussi\")\n",
    "            \n",
    "        else:\n",
    "            print(\" Problème détecté dans test_models()\")\n",
    "            \n",
    "            # Diagnostic manuel en cas d'échec\n",
    "            print(\"\\n Diagnostic manuel...\")\n",
    "            \n",
    "            try:\n",
    "                # Test de création simple\n",
    "                print(\"   - Test création SNN ultra-simple...\")\n",
    "                ultra_model = create_simple_snn(\"ultra_simple\", num_classes=7, num_timesteps=4)\n",
    "                \n",
    "                test_input = torch.randn(1, 1, 48, 48)\n",
    "                with torch.no_grad():\n",
    "                    output = ultra_model(test_input)\n",
    "                    \n",
    "                print(f\"     Input: {test_input.shape}\")\n",
    "                print(f\"     Output: {output.shape}\")\n",
    "                \n",
    "                if output.shape == (1, 7):\n",
    "                    print(\"  Test manuel réussi - les modèles fonctionnent\")\n",
    "                    models_ok = True\n",
    "                else:\n",
    "                    print(f\" Shape incorrecte: attendu (1, 7), obtenu {output.shape}\")\n",
    "                    \n",
    "            except Exception as manual_error:\n",
    "                print(f\"  Erreur lors du test manuel: {manual_error}\")\n",
    "                traceback.print_exc()\n",
    "        \n",
    "        if not models_ok:\n",
    "            print(\"\\n Les modèles ne passent pas les tests\")\n",
    "            print(\"\\n Solutions possibles:\")\n",
    "            print(\"   1. Redémarrer le kernel/environnement Python\")\n",
    "            print(\"   2. Vérifier l'installation de SpikingJelly:\")\n",
    "            print(\"      pip install spikingjelly\")\n",
    "            print(\"   3. Vérifier la compatibilité PyTorch-SpikingJelly\")\n",
    "            print(\"   4. Essayer avec des paramètres plus conservateurs\")\n",
    "            \n",
    "            user_choice = input(\"\\n Voulez-vous continuer malgré l'erreur ? (y/n): \")\n",
    "            if user_choice.lower() != 'y':\n",
    "                raise Exception(\"Tests des modèles échoués - arrêt demandé par l'utilisateur\")\n",
    "            else:\n",
    "                print(\"  Continuation forcée - attention aux résultats suivants\")\n",
    "            \n",
    "    except KeyboardInterrupt:\n",
    "        print(\"\\n Test interrompu par l'utilisateur\")\n",
    "        raise\n",
    "        \n",
    "    except Exception as test_error:\n",
    "        print(f\"\\n Erreur lors des tests: {test_error}\")\n",
    "        print(\"\\n Traceback complet:\")\n",
    "        traceback.print_exc()\n",
    "        \n",
    "        print(\"\\n Informations de debug:\")\n",
    "        print(f\"   - Python executable: {__import__('sys').executable}\")\n",
    "        print(f\"   - Working directory: {__import__('os').getcwd()}\")\n",
    "        \n",
    "        # Vérification de l'existence du fichier\n",
    "        import os\n",
    "        if os.path.exists('snn_simple.py'):\n",
    "            print(\"   - snn_simple.py trouvé \")\n",
    "        else:\n",
    "            print(\"   - snn_simple.py MANQUANT \")\n",
    "            \n",
    "        raise Exception(f\"Erreur dans les tests des modèles: {test_error}\")\n",
    "        \n",
    "except ImportError as e:\n",
    "    print(f\" Erreur d'import: {e}\")\n",
    "    print(\"\\n Solutions:\")\n",
    "    print(\"   1. Vérifiez que snn_simple.py est dans le même dossier\")\n",
    "    print(\"   2. Vérifiez que le fichier snn_simple.py est complet\")\n",
    "    print(\"   3. Vérifiez l'installation de SpikingJelly:\")\n",
    "    print(\"      pip install spikingjelly\")\n",
    "    print(\"   4. Redémarrez le kernel\")\n",
    "    \n",
    "    # Affichage du contenu du dossier pour diagnostic\n",
    "    import os\n",
    "    print(f\"\\n Contenu du dossier actuel:\")\n",
    "    try:\n",
    "        for file in os.listdir('.'):\n",
    "            if file.endswith('.py'):\n",
    "                print(f\"   - {file} \")\n",
    "            else:\n",
    "                print(f\"   - {file}\")\n",
    "    except Exception:\n",
    "        print(\"   Erreur lors de la lecture du dossier\")\n",
    "    \n",
    "    raise\n",
    "\n",
    "except Exception as e:\n",
    "    print(f\" Erreur inattendue: {e}\")\n",
    "    print(\"\\n Traceback complet:\")\n",
    "    traceback.print_exc()\n",
    "    raise\n",
    "\n",
    "print(\"\\n Import et tests terminés avec succès!\")\n",
    "print(\"    Les modèles sont prêts pour l'entraînement\")"
   ]
  },
  {
   "cell_type": "code",
   "execution_count": 5,
   "id": "e95fe147",
   "metadata": {},
   "outputs": [
    {
     "name": "stdout",
     "output_type": "stream",
     "text": [
      " Dossier de résultats: simple_snn_results/20250824_005442\n",
      " Configuration sauvegardée\n"
     ]
    }
   ],
   "source": [
    "# =============================================================================\n",
    "# 3. CONFIGURATION \n",
    "# =============================================================================\n",
    "\n",
    "class Config:\n",
    "    \"\"\"Configuration centralisée pour l'expérience\"\"\"\n",
    "    \n",
    "    def __init__(self):\n",
    "        # =====================================================================\n",
    "        # PARAMÈTRES DATASET\n",
    "        # =====================================================================\n",
    "        # 🔧 CHANGEZ CE CHEMIN VERS VOTRE DATASET\n",
    "        self.dataset_path = \"/home/dieudo/Projects/Project_Neuro/Fer_Neuromorphique/data\"\n",
    "        self.num_classes = 7\n",
    "        \n",
    "        # =====================================================================\n",
    "        # PARAMÈTRES MODÈLES\n",
    "        # =====================================================================\n",
    "        self.snn_architecture = \"simple\"  # \"simple\" ou \"ultra_simple\"\n",
    "        self.snn_timesteps = 8             # Nombre de pas temporels\n",
    "        \n",
    "        # =====================================================================  \n",
    "        # PARAMÈTRES ENTRAÎNEMENT\n",
    "        # =====================================================================\n",
    "        self.epochs = 50                   # Assez pour voir les tendances\n",
    "        self.batch_size = 32               # Stable pour les deux modèles\n",
    "        \n",
    "        # Learning rates différenciés\n",
    "        self.ann_lr = 1e-3                 # Plus haut pour ANN\n",
    "        self.snn_lr = 5e-4                 # Plus bas pour SNN\n",
    "        self.weight_decay = 1e-4\n",
    "        \n",
    "        # =====================================================================\n",
    "        # PARAMÈTRES ÉVALUATION\n",
    "        # =====================================================================\n",
    "        self.patience = 8                  # Early stopping\n",
    "        self.save_best_models = True\n",
    "        \n",
    "        # =====================================================================\n",
    "        # CHEMINS DE SORTIE\n",
    "        # =====================================================================\n",
    "        self.results_dir = \"simple_snn_results\"\n",
    "        self.timestamp = datetime.now().strftime(\"%Y%m%d_%H%M%S\")\n",
    "        self.experiment_dir = f\"{self.results_dir}/{self.timestamp}\"\n",
    "\n",
    "# Initialisation de la configuration\n",
    "config = Config()\n",
    "\n",
    "# Création des dossiers de résultats\n",
    "os.makedirs(config.experiment_dir, exist_ok=True)\n",
    "print(f\" Dossier de résultats: {config.experiment_dir}\")\n",
    "\n",
    "# Sauvegarde de la configuration\n",
    "config_dict = {k: v for k, v in vars(config).items() if not k.startswith('_')}\n",
    "with open(f\"{config.experiment_dir}/config.json\", 'w') as f:\n",
    "    json.dump(config_dict, f, indent=2, default=str)\n",
    "\n",
    "print(\" Configuration sauvegardée\")"
   ]
  },
  {
   "cell_type": "code",
   "execution_count": 6,
   "id": "e93ee8be",
   "metadata": {},
   "outputs": [
    {
     "name": "stdout",
     "output_type": "stream",
     "text": [
      "\n",
      "==================================================\n",
      " CHARGEMENT ET ANALYSE DES DONNÉES\n",
      "==================================================\n",
      "  Device utilisé: cuda\n",
      " Chargement depuis: /home/dieudo/Projects/Project_Neuro/Fer_Neuromorphique/data\n",
      " Train dataset: 28709 images\n",
      " Test dataset: 7178 images\n",
      " Classes: ['angry', 'disgust', 'fear', 'happy', 'neutral', 'sad', 'surprise']\n",
      "\n",
      " Analyse de la distribution des classes:\n",
      "Distribution train:\n",
      "  angry       :  3995 images ( 13.9%)\n",
      "  disgust     :   436 images (  1.5%)\n",
      "  fear        :  4097 images ( 14.3%)\n",
      "  happy       :  7215 images ( 25.1%)\n",
      "  neutral     :  4965 images ( 17.3%)\n",
      "  sad         :  4830 images ( 16.8%)\n",
      "  surprise    :  3171 images ( 11.0%)\n",
      "\n",
      " Ratio de déséquilibre: 16.5:1\n",
      " DÉSÉQUILIBRE SÉVÈRE détecté - ceci peut expliquer les mauvaises performances !\n"
     ]
    }
   ],
   "source": [
    "# =============================================================================\n",
    "# 4. CHARGEMENT ET ANALYSE DES DONNÉES\n",
    "# =============================================================================\n",
    "\n",
    "print(\"\\n\" + \"=\" * 50)\n",
    "print(\" CHARGEMENT ET ANALYSE DES DONNÉES\")\n",
    "print(\"=\" * 50)\n",
    "\n",
    "# Device setup\n",
    "device = torch.device('cuda' if torch.cuda.is_available() else 'cpu')\n",
    "print(f\"  Device utilisé: {device}\")\n",
    "\n",
    "# Transformations simples et robustes\n",
    "transform_train = transforms.Compose([\n",
    "    transforms.Grayscale(num_output_channels=1),\n",
    "    transforms.Resize((52, 52)),                    # Légèrement plus grand\n",
    "    transforms.RandomCrop(48, padding=2),           # Crop avec padding minimal\n",
    "    transforms.RandomHorizontalFlip(p=0.3),         # Flip occasionnel\n",
    "    transforms.ToTensor(),\n",
    "    transforms.Normalize((0.5,), (0.5,))            # Normalisation simple\n",
    "])\n",
    "\n",
    "transform_test = transforms.Compose([\n",
    "    transforms.Grayscale(num_output_channels=1),\n",
    "    transforms.Resize((48, 48)),                     # Taille exacte pour test\n",
    "    transforms.ToTensor(),\n",
    "    transforms.Normalize((0.5,), (0.5,))\n",
    "])\n",
    "\n",
    "# Chargement des datasets\n",
    "try:\n",
    "    print(f\" Chargement depuis: {config.dataset_path}\")\n",
    "    \n",
    "    train_dataset = ImageFolder(\n",
    "        root=f\"{config.dataset_path}/train\", \n",
    "        transform=transform_train\n",
    "    )\n",
    "    \n",
    "    test_dataset = ImageFolder(\n",
    "        root=f\"{config.dataset_path}/test\", \n",
    "        transform=transform_test\n",
    "    )\n",
    "    \n",
    "    print(f\" Train dataset: {len(train_dataset)} images\")\n",
    "    print(f\" Test dataset: {len(test_dataset)} images\") \n",
    "    print(f\" Classes: {train_dataset.classes}\")\n",
    "    \n",
    "    # Vérification cohérence\n",
    "    assert len(train_dataset.classes) == config.num_classes, f\"Nombre de classes incorrect: {len(train_dataset.classes)} vs {config.num_classes}\"\n",
    "    \n",
    "except Exception as e:\n",
    "    print(f\" Erreur chargement dataset: {e}\")\n",
    "    print(\" Vérifiez le chemin dans la Config (cellule précédente)\")\n",
    "    raise\n",
    "\n",
    "# Analyse de la distribution des classes\n",
    "print(\"\\n Analyse de la distribution des classes:\")\n",
    "class_counts = Counter([label for _, label in train_dataset.samples])\n",
    "total_images = sum(class_counts.values())\n",
    "\n",
    "print(\"Distribution train:\")\n",
    "for i, (class_name, count) in enumerate(zip(train_dataset.classes, [class_counts[i] for i in range(len(train_dataset.classes))])):\n",
    "    percentage = 100 * count / total_images\n",
    "    print(f\"  {class_name:12}: {count:5d} images ({percentage:5.1f}%)\")\n",
    "\n",
    "# Calcul du déséquilibre\n",
    "min_count = min(class_counts.values())\n",
    "max_count = max(class_counts.values())\n",
    "imbalance_ratio = max_count / min_count\n",
    "\n",
    "print(f\"\\n Ratio de déséquilibre: {imbalance_ratio:.1f}:1\")\n",
    "\n",
    "if imbalance_ratio > 10:\n",
    "    print(\" DÉSÉQUILIBRE SÉVÈRE détecté - ceci peut expliquer les mauvaises performances !\")\n",
    "elif imbalance_ratio > 3:\n",
    "    print(\"  Déséquilibre modéré détecté - équilibrage recommandé\")\n",
    "else:\n",
    "    print(\" Distribution relativement équilibrée\")"
   ]
  },
  {
   "cell_type": "code",
   "execution_count": 7,
   "id": "c6712364",
   "metadata": {},
   "outputs": [
    {
     "name": "stdout",
     "output_type": "stream",
     "text": [
      "\n",
      " Création des DataLoaders...\n",
      "🔧 Application de l'équilibrage des classes...\n",
      " Équilibrage appliqué\n",
      " Train DataLoader: 897 batches\n",
      " Test DataLoader: 225 batches\n",
      " Batch de test: images torch.Size([32, 1, 48, 48]), labels torch.Size([32])\n",
      "   Distribution du batch échantillon: {0: 4, 1: 9, 6: 1, 5: 5, 4: 5, 3: 4, 2: 4}\n"
     ]
    }
   ],
   "source": [
    "# =============================================================================\n",
    "# 5. CRÉATION DES DATALOADERS\n",
    "# =============================================================================\n",
    "\n",
    "print(\"\\n Création des DataLoaders...\")\n",
    "\n",
    "# Équilibrage des classes si nécessaire\n",
    "if imbalance_ratio > 2.5:\n",
    "    print(\"🔧 Application de l'équilibrage des classes...\")\n",
    "    \n",
    "    # Calcul des poids pour équilibrage\n",
    "    class_weights = {cls: 1.0 / count for cls, count in class_counts.items()}\n",
    "    sample_weights = [class_weights[label] for _, label in train_dataset.samples]\n",
    "    \n",
    "    # Sampler avec équilibrage\n",
    "    sampler = WeightedRandomSampler(\n",
    "        sample_weights, \n",
    "        num_samples=len(sample_weights),\n",
    "        replacement=True\n",
    "    )\n",
    "    \n",
    "    shuffle = False  # Pas de shuffle avec sampler\n",
    "    print(\" Équilibrage appliqué\")\n",
    "else:\n",
    "    sampler = None\n",
    "    shuffle = True\n",
    "    print(\" Pas d'équilibrage nécessaire\")\n",
    "\n",
    "# Création des DataLoaders\n",
    "train_loader = DataLoader(\n",
    "    train_dataset,\n",
    "    batch_size=config.batch_size,\n",
    "    shuffle=shuffle,\n",
    "    sampler=sampler,\n",
    "    num_workers=4,\n",
    "    pin_memory=True,\n",
    "    drop_last=True  # Pour éviter les petits derniers batches\n",
    ")\n",
    "\n",
    "test_loader = DataLoader(\n",
    "    test_dataset,\n",
    "    batch_size=config.batch_size,\n",
    "    shuffle=False,\n",
    "    num_workers=4,\n",
    "    pin_memory=True,\n",
    "    drop_last=False\n",
    ")\n",
    "\n",
    "print(f\" Train DataLoader: {len(train_loader)} batches\")\n",
    "print(f\" Test DataLoader: {len(test_loader)} batches\")\n",
    "\n",
    "# Test d'un batch pour vérification\n",
    "try:\n",
    "    sample_batch = next(iter(train_loader))\n",
    "    sample_images, sample_labels = sample_batch\n",
    "    print(f\" Batch de test: images {sample_images.shape}, labels {sample_labels.shape}\")\n",
    "    \n",
    "    # Vérification de la distribution dans un batch\n",
    "    sample_class_dist = Counter(sample_labels.numpy())\n",
    "    print(f\"   Distribution du batch échantillon: {dict(sample_class_dist)}\")\n",
    "    \n",
    "except Exception as e:\n",
    "    print(f\" Erreur test DataLoader: {e}\")\n",
    "    raise"
   ]
  },
  {
   "cell_type": "code",
   "execution_count": 8,
   "id": "bd95f16e",
   "metadata": {},
   "outputs": [],
   "source": [
    "# =============================================================================\n",
    "# 6. FONCTIONS D'ENTRAÎNEMENT\n",
    "# =============================================================================\n",
    "\n",
    "def train_model(model, model_name, train_loader, test_loader, config, device):\n",
    "    \"\"\"\n",
    "    Fonction d'entraînement unifiée pour ANN et SNN avec monitoring énergétique\n",
    "    \n",
    "    Args:\n",
    "        model: Le modèle à entraîner\n",
    "        model_name: \"ANN\" ou \"SNN\" pour différencier\n",
    "        train_loader, test_loader: DataLoaders\n",
    "        config: Configuration\n",
    "        device: Device PyTorch\n",
    "    \n",
    "    Returns:\n",
    "        dict: Historique d'entraînement et métriques avec données énergétiques\n",
    "    \"\"\"\n",
    "    \n",
    "    print(f\"\\n ENTRAÎNEMENT {model_name}\")\n",
    "    print(\"-\" * 30)\n",
    "    \n",
    "    # Configuration optimiseur selon le type de modèle\n",
    "    if model_name == \"ANN\":\n",
    "        optimizer = torch.optim.Adam(\n",
    "            model.parameters(),\n",
    "            lr=config.ann_lr,\n",
    "            weight_decay=config.weight_decay\n",
    "        )\n",
    "    else:  # SNN\n",
    "        optimizer = torch.optim.Adam(\n",
    "            model.parameters(),\n",
    "            lr=config.snn_lr,\n",
    "            weight_decay=config.weight_decay\n",
    "        )\n",
    "    \n",
    "    # Scheduler cosine annealing\n",
    "    scheduler = torch.optim.lr_scheduler.CosineAnnealingLR(\n",
    "        optimizer,\n",
    "        T_max=config.epochs,\n",
    "        eta_min=1e-6\n",
    "    )\n",
    "    \n",
    "    criterion = nn.CrossEntropyLoss()\n",
    "    \n",
    "    # Variables pour tracking (avec énergie)\n",
    "    history = {\n",
    "        'train_losses': [],\n",
    "        'train_accs': [],\n",
    "        'val_losses': [],\n",
    "        'val_accs': [],\n",
    "        'learning_rates': [],\n",
    "        'power_usage': [],      # Nouvelle métrique énergétique\n",
    "        'memory_usage': []      # Nouvelle métrique mémoire\n",
    "    }\n",
    "    \n",
    "    best_val_acc = 0.0\n",
    "    best_epoch = 0\n",
    "    patience_counter = 0\n",
    "    \n",
    "    # Boucle d'entraînement\n",
    "    for epoch in range(config.epochs):\n",
    "        epoch_start = time.time()\n",
    "        \n",
    "        # Monitoring énergétique - début d'époque\n",
    "        power_start = get_gpu_power_usage() if gpu_monitoring else 0\n",
    "        memory_start = get_gpu_memory_usage() if gpu_monitoring else 0\n",
    "        \n",
    "        # =================================================================\n",
    "        # PHASE D'ENTRAÎNEMENT\n",
    "        # =================================================================\n",
    "        model.train()\n",
    "        train_loss = 0.0\n",
    "        train_correct = 0\n",
    "        train_total = 0\n",
    "        \n",
    "        # Monitoring énergétique durant l'entraînement\n",
    "        epoch_power_samples = []\n",
    "        \n",
    "        # Progress bar pour l'entraînement\n",
    "        train_pbar = tqdm(\n",
    "            train_loader, \n",
    "            desc=f\"{model_name} Epoch {epoch+1:2d} [Train]\",\n",
    "            leave=False\n",
    "        )\n",
    "        \n",
    "        for batch_idx, (data, target) in enumerate(train_pbar):\n",
    "            data, target = data.to(device, non_blocking=True), target.to(device, non_blocking=True)\n",
    "            \n",
    "            # Échantillonnage énergétique (tous les 20 batches)\n",
    "            if batch_idx % 20 == 0 and gpu_monitoring:\n",
    "                current_power = get_gpu_power_usage()\n",
    "                epoch_power_samples.append(current_power)\n",
    "            \n",
    "            # Reset gradients\n",
    "            optimizer.zero_grad()\n",
    "            \n",
    "            try:\n",
    "                # Forward pass\n",
    "                output = model(data)\n",
    "                loss = criterion(output, target)\n",
    "                \n",
    "                # Backward pass\n",
    "                loss.backward()\n",
    "                \n",
    "                # Gradient clipping pour la stabilité\n",
    "                torch.nn.utils.clip_grad_norm_(model.parameters(), max_norm=1.0)\n",
    "                \n",
    "                # Optimizer step\n",
    "                optimizer.step()\n",
    "                \n",
    "                # Statistiques\n",
    "                train_loss += loss.item()\n",
    "                pred = output.argmax(dim=1)\n",
    "                train_correct += (pred == target).sum().item()\n",
    "                train_total += target.size(0)\n",
    "                \n",
    "                # Reset SNN state si nécessaire\n",
    "                if model_name == \"SNN\":\n",
    "                    reset_snn_state(model)\n",
    "                \n",
    "                # Mise à jour progress bar avec énergie\n",
    "                current_acc = train_correct / train_total\n",
    "                if gpu_monitoring and len(epoch_power_samples) > 0:\n",
    "                    avg_power = sum(epoch_power_samples) / len(epoch_power_samples)\n",
    "                    train_pbar.set_postfix({\n",
    "                        'Loss': f'{loss.item():.4f}',\n",
    "                        'Acc': f'{current_acc:.3f}',\n",
    "                        'Power': f'{avg_power:.1f}W'\n",
    "                    })\n",
    "                else:\n",
    "                    train_pbar.set_postfix({\n",
    "                        'Loss': f'{loss.item():.4f}',\n",
    "                        'Acc': f'{current_acc:.3f}'\n",
    "                    })\n",
    "                \n",
    "            except Exception as e:\n",
    "                print(f\" Erreur batch {batch_idx}: {e}\")\n",
    "                continue\n",
    "        \n",
    "        # Moyennes d'entraînement\n",
    "        avg_train_loss = train_loss / len(train_loader)\n",
    "        train_accuracy = train_correct / train_total\n",
    "        \n",
    "        # =================================================================\n",
    "        # PHASE DE VALIDATION\n",
    "        # =================================================================\n",
    "        model.eval()\n",
    "        val_loss = 0.0\n",
    "        val_correct = 0\n",
    "        val_total = 0\n",
    "        all_preds = []\n",
    "        all_labels = []\n",
    "        \n",
    "        val_pbar = tqdm(\n",
    "            test_loader,\n",
    "            desc=f\"{model_name} Epoch {epoch+1:2d} [Val]\",\n",
    "            leave=False\n",
    "        )\n",
    "        \n",
    "        with torch.no_grad():\n",
    "            for data, target in val_pbar:\n",
    "                data, target = data.to(device, non_blocking=True), target.to(device, non_blocking=True)\n",
    "                \n",
    "                try:\n",
    "                    # Forward pass\n",
    "                    output = model(data)\n",
    "                    loss = criterion(output, target)\n",
    "                    \n",
    "                    # Statistiques\n",
    "                    val_loss += loss.item()\n",
    "                    pred = output.argmax(dim=1)\n",
    "                    val_correct += (pred == target).sum().item()\n",
    "                    val_total += target.size(0)\n",
    "                    \n",
    "                    # Collecte pour métriques détaillées\n",
    "                    all_preds.extend(pred.cpu().numpy())\n",
    "                    all_labels.extend(target.cpu().numpy())\n",
    "                    \n",
    "                    # Reset SNN state si nécessaire\n",
    "                    if model_name == \"SNN\":\n",
    "                        reset_snn_state(model)\n",
    "                    \n",
    "                    # Mise à jour progress bar\n",
    "                    current_acc = val_correct / val_total\n",
    "                    val_pbar.set_postfix({\n",
    "                        'Loss': f'{loss.item():.4f}',\n",
    "                        'Acc': f'{current_acc:.3f}'\n",
    "                    })\n",
    "                    \n",
    "                except Exception as e:\n",
    "                    print(f\" Erreur validation: {e}\")\n",
    "                    continue\n",
    "        \n",
    "        # Moyennes de validation\n",
    "        avg_val_loss = val_loss / len(test_loader)\n",
    "        val_accuracy = val_correct / val_total\n",
    "        \n",
    "        # F1 score\n",
    "        try:\n",
    "            val_f1 = f1_score(all_labels, all_preds, average='weighted', zero_division=0)\n",
    "        except:\n",
    "            val_f1 = 0.0\n",
    "        \n",
    "        # Monitoring énergétique - fin d'époque\n",
    "        power_end = get_gpu_power_usage() if gpu_monitoring else 0\n",
    "        memory_end = get_gpu_memory_usage() if gpu_monitoring else 0\n",
    "        \n",
    "        # Calcul des métriques énergétiques\n",
    "        if gpu_monitoring and len(epoch_power_samples) > 0:\n",
    "            avg_epoch_power = sum(epoch_power_samples) / len(epoch_power_samples)\n",
    "            avg_epoch_memory = (memory_start + memory_end) / 2\n",
    "        else:\n",
    "            avg_epoch_power = 0\n",
    "            avg_epoch_memory = 0\n",
    "        \n",
    "        # Mise à jour du scheduler\n",
    "        scheduler.step()\n",
    "        current_lr = optimizer.param_groups[0]['lr']\n",
    "        \n",
    "        # Stockage historique (avec métriques énergétiques)\n",
    "        history['train_losses'].append(avg_train_loss)\n",
    "        history['train_accs'].append(train_accuracy)\n",
    "        history['val_losses'].append(avg_val_loss)\n",
    "        history['val_accs'].append(val_accuracy)\n",
    "        history['learning_rates'].append(current_lr)\n",
    "        history['power_usage'].append(avg_epoch_power)\n",
    "        history['memory_usage'].append(avg_epoch_memory)\n",
    "        \n",
    "        # Temps d'époque\n",
    "        epoch_time = time.time() - epoch_start\n",
    "        \n",
    "        # Affichage des résultats (avec énergie si disponible)\n",
    "        if gpu_monitoring:\n",
    "            print(f\"{model_name} Epoch {epoch+1:2d}: \"\n",
    "                  f\"Train Loss: {avg_train_loss:.4f}, Train Acc: {train_accuracy:.3f} ({train_accuracy*100:.1f}%) | \"\n",
    "                  f\"Val Loss: {avg_val_loss:.4f}, Val Acc: {val_accuracy:.3f} ({val_accuracy*100:.1f}%), \"\n",
    "                  f\"F1: {val_f1:.3f} | ⚡{avg_epoch_power:.1f}W {avg_epoch_memory:.1f}GB | {epoch_time:.1f}s\")\n",
    "        else:\n",
    "            print(f\"{model_name} Epoch {epoch+1:2d}: \"\n",
    "                  f\"Train Loss: {avg_train_loss:.4f}, Train Acc: {train_accuracy:.3f} ({train_accuracy*100:.1f}%) | \"\n",
    "                  f\"Val Loss: {avg_val_loss:.4f}, Val Acc: {val_accuracy:.3f} ({val_accuracy*100:.1f}%), \"\n",
    "                  f\"F1: {val_f1:.3f} | {epoch_time:.1f}s\")\n",
    "        \n",
    "        # Sauvegarde du meilleur modèle\n",
    "        if val_accuracy > best_val_acc:\n",
    "            best_val_acc = val_accuracy\n",
    "            best_epoch = epoch\n",
    "            patience_counter = 0\n",
    "            \n",
    "            if config.save_best_models:\n",
    "                model_path = f\"{config.experiment_dir}/best_{model_name.lower()}_model.pth\"\n",
    "                torch.save({\n",
    "                    'epoch': epoch,\n",
    "                    'model_state_dict': model.state_dict(),\n",
    "                    'optimizer_state_dict': optimizer.state_dict(),\n",
    "                    'best_val_acc': best_val_acc,\n",
    "                    'model_name': model_name\n",
    "                }, model_path)\n",
    "                print(f\" Meilleur modèle sauvegardé: {best_val_acc:.3f}\")\n",
    "        else:\n",
    "            patience_counter += 1\n",
    "        \n",
    "        # Early stopping\n",
    "        if patience_counter >= config.patience:\n",
    "            print(f\" Early stopping après {epoch+1} epochs (patience: {config.patience})\")\n",
    "            break\n",
    "        \n",
    "        # Alerte pour SNN qui apprend très lentement\n",
    "        if model_name == \"SNN\" and epoch >= 5 and best_val_acc < 0.15:\n",
    "            print(f\" SNN apprend très lentement - possibles problèmes d'architecture\")\n",
    "    \n",
    "    # Résumé final avec métriques énergétiques\n",
    "    print(f\"\\n {model_name} - Entraînement terminé:\")\n",
    "    print(f\"    Meilleure accuracy: {best_val_acc:.3f} ({best_val_acc*100:.1f}%) à l'époque {best_epoch+1}\")\n",
    "    \n",
    "    if gpu_monitoring:\n",
    "        avg_power = sum(history['power_usage']) / len(history['power_usage']) if history['power_usage'] else 0\n",
    "        max_power = max(history['power_usage']) if history['power_usage'] else 0\n",
    "        avg_memory = sum(history['memory_usage']) / len(history['memory_usage']) if history['memory_usage'] else 0\n",
    "        \n",
    "        print(f\"    ⚡ Consommation moyenne: {avg_power:.1f}W (max: {max_power:.1f}W)\")\n",
    "        print(f\"   Mémoire moyenne: {avg_memory:.1f}GB\")\n",
    "    \n",
    "    # Ajout des métriques finales\n",
    "    history.update({\n",
    "        'best_val_acc': best_val_acc,\n",
    "        'best_epoch': best_epoch,\n",
    "        'final_preds': all_preds,\n",
    "        'final_labels': all_labels,\n",
    "        'model_info': get_model_info(model),\n",
    "        'avg_power': sum(history['power_usage']) / len(history['power_usage']) if history['power_usage'] else 0,\n",
    "        'max_power': max(history['power_usage']) if history['power_usage'] else 0,\n",
    "        'avg_memory': sum(history['memory_usage']) / len(history['memory_usage']) if history['memory_usage'] else 0\n",
    "    })\n",
    "    \n",
    "    return history"
   ]
  },
  {
   "cell_type": "code",
   "execution_count": 9,
   "id": "5b9d31f4",
   "metadata": {},
   "outputs": [
    {
     "name": "stdout",
     "output_type": "stream",
     "text": [
      "\n",
      "==================================================\n",
      " ENTRAÎNEMENT ANN BASELINE\n",
      "==================================================\n",
      "L'ANN baseline va nous indiquer si les données sont exploitables...\n",
      "🔧 Création du modèle ANN baseline...\n",
      "✅ Modèle ANN baseline créé\n",
      "   Paramètres totaux: 102,119\n",
      "   Paramètres entraînables: 102,119\n",
      "   Classes: 7\n",
      " ANN créé avec 102,119 paramètres\n",
      "\n",
      " ENTRAÎNEMENT ANN\n",
      "------------------------------\n"
     ]
    },
    {
     "name": "stderr",
     "output_type": "stream",
     "text": [
      "                                                                                                             \r"
     ]
    },
    {
     "name": "stdout",
     "output_type": "stream",
     "text": [
      "ANN Epoch  1: Train Loss: 1.9012, Train Acc: 0.208 (20.8%) | Val Loss: 1.8625, Val Acc: 0.219 (21.9%), F1: 0.184 | ⚡16.2W 1.1GB | 8.7s\n",
      " Meilleur modèle sauvegardé: 0.219\n"
     ]
    },
    {
     "name": "stderr",
     "output_type": "stream",
     "text": [
      "                                                                                                             \r"
     ]
    },
    {
     "name": "stdout",
     "output_type": "stream",
     "text": [
      "ANN Epoch  2: Train Loss: 1.8404, Train Acc: 0.253 (25.3%) | Val Loss: 1.8046, Val Acc: 0.277 (27.7%), F1: 0.265 | ⚡16.8W 1.2GB | 7.6s\n",
      " Meilleur modèle sauvegardé: 0.277\n"
     ]
    },
    {
     "name": "stderr",
     "output_type": "stream",
     "text": [
      "                                                                                                             \r"
     ]
    },
    {
     "name": "stdout",
     "output_type": "stream",
     "text": [
      "ANN Epoch  3: Train Loss: 1.7669, Train Acc: 0.301 (30.1%) | Val Loss: 1.7500, Val Acc: 0.289 (28.9%), F1: 0.291 | ⚡16.8W 1.2GB | 7.4s\n",
      " Meilleur modèle sauvegardé: 0.289\n"
     ]
    },
    {
     "name": "stderr",
     "output_type": "stream",
     "text": [
      "                                                                                                             \r"
     ]
    },
    {
     "name": "stdout",
     "output_type": "stream",
     "text": [
      "ANN Epoch  4: Train Loss: 1.7172, Train Acc: 0.328 (32.8%) | Val Loss: 1.7408, Val Acc: 0.313 (31.3%), F1: 0.310 | ⚡16.9W 1.1GB | 7.3s\n",
      " Meilleur modèle sauvegardé: 0.313\n"
     ]
    },
    {
     "name": "stderr",
     "output_type": "stream",
     "text": [
      "                                                                                                             \r"
     ]
    },
    {
     "name": "stdout",
     "output_type": "stream",
     "text": [
      "ANN Epoch  5: Train Loss: 1.6742, Train Acc: 0.345 (34.5%) | Val Loss: 1.6106, Val Acc: 0.375 (37.5%), F1: 0.362 | ⚡17.0W 1.1GB | 7.3s\n",
      " Meilleur modèle sauvegardé: 0.375\n"
     ]
    },
    {
     "name": "stderr",
     "output_type": "stream",
     "text": [
      "                                                                                                             \r"
     ]
    },
    {
     "name": "stdout",
     "output_type": "stream",
     "text": [
      "ANN Epoch  6: Train Loss: 1.6370, Train Acc: 0.368 (36.8%) | Val Loss: 1.6387, Val Acc: 0.365 (36.5%), F1: 0.335 | ⚡17.0W 1.1GB | 7.5s\n"
     ]
    },
    {
     "name": "stderr",
     "output_type": "stream",
     "text": [
      "                                                                                                             \r"
     ]
    },
    {
     "name": "stdout",
     "output_type": "stream",
     "text": [
      "ANN Epoch  7: Train Loss: 1.5970, Train Acc: 0.390 (39.0%) | Val Loss: 1.7000, Val Acc: 0.343 (34.3%), F1: 0.342 | ⚡17.2W 1.1GB | 7.3s\n"
     ]
    },
    {
     "name": "stderr",
     "output_type": "stream",
     "text": [
      "                                                                                                             \r"
     ]
    },
    {
     "name": "stdout",
     "output_type": "stream",
     "text": [
      "ANN Epoch  8: Train Loss: 1.5609, Train Acc: 0.399 (39.9%) | Val Loss: 1.5653, Val Acc: 0.398 (39.8%), F1: 0.390 | ⚡17.5W 1.1GB | 7.4s\n",
      " Meilleur modèle sauvegardé: 0.398\n"
     ]
    },
    {
     "name": "stderr",
     "output_type": "stream",
     "text": [
      "                                                                                                             \r"
     ]
    },
    {
     "name": "stdout",
     "output_type": "stream",
     "text": [
      "ANN Epoch  9: Train Loss: 1.5301, Train Acc: 0.410 (41.0%) | Val Loss: 1.5986, Val Acc: 0.390 (39.0%), F1: 0.392 | ⚡17.4W 1.1GB | 7.3s\n"
     ]
    },
    {
     "name": "stderr",
     "output_type": "stream",
     "text": [
      "                                                                                                             \r"
     ]
    },
    {
     "name": "stdout",
     "output_type": "stream",
     "text": [
      "ANN Epoch 10: Train Loss: 1.4965, Train Acc: 0.427 (42.7%) | Val Loss: 1.4991, Val Acc: 0.416 (41.6%), F1: 0.415 | ⚡16.2W 1.1GB | 13.1s\n",
      " Meilleur modèle sauvegardé: 0.416\n"
     ]
    },
    {
     "name": "stderr",
     "output_type": "stream",
     "text": [
      "                                                                                                            \r"
     ]
    },
    {
     "name": "stdout",
     "output_type": "stream",
     "text": [
      "ANN Epoch 11: Train Loss: 1.4742, Train Acc: 0.440 (44.0%) | Val Loss: 1.5914, Val Acc: 0.383 (38.3%), F1: 0.390 | ⚡15.0W 1.1GB | 16.9s\n"
     ]
    },
    {
     "name": "stderr",
     "output_type": "stream",
     "text": [
      "                                                                                                            \r"
     ]
    },
    {
     "name": "stdout",
     "output_type": "stream",
     "text": [
      "ANN Epoch 12: Train Loss: 1.4605, Train Acc: 0.442 (44.2%) | Val Loss: 1.4573, Val Acc: 0.436 (43.6%), F1: 0.426 | ⚡14.9W 1.1GB | 17.3s\n",
      " Meilleur modèle sauvegardé: 0.436\n"
     ]
    },
    {
     "name": "stderr",
     "output_type": "stream",
     "text": [
      "                                                                                                            \r"
     ]
    },
    {
     "name": "stdout",
     "output_type": "stream",
     "text": [
      "ANN Epoch 13: Train Loss: 1.4482, Train Acc: 0.441 (44.1%) | Val Loss: 1.4711, Val Acc: 0.441 (44.1%), F1: 0.425 | ⚡14.8W 1.1GB | 17.8s\n",
      " Meilleur modèle sauvegardé: 0.441\n"
     ]
    },
    {
     "name": "stderr",
     "output_type": "stream",
     "text": [
      "                                                                                                            \r"
     ]
    },
    {
     "name": "stdout",
     "output_type": "stream",
     "text": [
      "ANN Epoch 14: Train Loss: 1.4259, Train Acc: 0.456 (45.6%) | Val Loss: 1.4601, Val Acc: 0.442 (44.2%), F1: 0.428 | ⚡14.8W 1.1GB | 17.9s\n",
      " Meilleur modèle sauvegardé: 0.442\n"
     ]
    },
    {
     "name": "stderr",
     "output_type": "stream",
     "text": [
      "                                                                                                            \r"
     ]
    },
    {
     "name": "stdout",
     "output_type": "stream",
     "text": [
      "ANN Epoch 15: Train Loss: 1.4126, Train Acc: 0.463 (46.3%) | Val Loss: 1.4223, Val Acc: 0.446 (44.6%), F1: 0.431 | ⚡14.8W 1.1GB | 17.2s\n",
      " Meilleur modèle sauvegardé: 0.446\n"
     ]
    },
    {
     "name": "stderr",
     "output_type": "stream",
     "text": [
      "                                                                                                            \r"
     ]
    },
    {
     "name": "stdout",
     "output_type": "stream",
     "text": [
      "ANN Epoch 16: Train Loss: 1.3869, Train Acc: 0.476 (47.6%) | Val Loss: 1.5089, Val Acc: 0.413 (41.3%), F1: 0.417 | ⚡14.8W 1.1GB | 17.2s\n"
     ]
    },
    {
     "name": "stderr",
     "output_type": "stream",
     "text": [
      "                                                                                                            \r"
     ]
    },
    {
     "name": "stdout",
     "output_type": "stream",
     "text": [
      "ANN Epoch 17: Train Loss: 1.3795, Train Acc: 0.477 (47.7%) | Val Loss: 1.6318, Val Acc: 0.384 (38.4%), F1: 0.398 | ⚡14.8W 1.1GB | 16.8s\n"
     ]
    },
    {
     "name": "stderr",
     "output_type": "stream",
     "text": [
      "                                                                                                            \r"
     ]
    },
    {
     "name": "stdout",
     "output_type": "stream",
     "text": [
      "ANN Epoch 18: Train Loss: 1.3563, Train Acc: 0.483 (48.3%) | Val Loss: 1.4733, Val Acc: 0.437 (43.7%), F1: 0.443 | ⚡14.8W 1.1GB | 16.6s\n"
     ]
    },
    {
     "name": "stderr",
     "output_type": "stream",
     "text": [
      "                                                                                                             \r"
     ]
    },
    {
     "name": "stdout",
     "output_type": "stream",
     "text": [
      "ANN Epoch 19: Train Loss: 1.3557, Train Acc: 0.487 (48.7%) | Val Loss: 1.3566, Val Acc: 0.474 (47.4%), F1: 0.467 | ⚡16.0W 1.1GB | 7.3s\n",
      " Meilleur modèle sauvegardé: 0.474\n"
     ]
    },
    {
     "name": "stderr",
     "output_type": "stream",
     "text": [
      "                                                                                                             \r"
     ]
    },
    {
     "name": "stdout",
     "output_type": "stream",
     "text": [
      "ANN Epoch 20: Train Loss: 1.3336, Train Acc: 0.493 (49.3%) | Val Loss: 1.3378, Val Acc: 0.478 (47.8%), F1: 0.458 | ⚡16.1W 1.1GB | 7.3s\n",
      " Meilleur modèle sauvegardé: 0.478\n"
     ]
    },
    {
     "name": "stderr",
     "output_type": "stream",
     "text": [
      "                                                                                                             \r"
     ]
    },
    {
     "name": "stdout",
     "output_type": "stream",
     "text": [
      "ANN Epoch 21: Train Loss: 1.3243, Train Acc: 0.498 (49.8%) | Val Loss: 1.3497, Val Acc: 0.481 (48.1%), F1: 0.452 | ⚡16.0W 1.1GB | 7.4s\n",
      " Meilleur modèle sauvegardé: 0.481\n"
     ]
    },
    {
     "name": "stderr",
     "output_type": "stream",
     "text": [
      "                                                                                                             \r"
     ]
    },
    {
     "name": "stdout",
     "output_type": "stream",
     "text": [
      "ANN Epoch 22: Train Loss: 1.3049, Train Acc: 0.508 (50.8%) | Val Loss: 1.4450, Val Acc: 0.457 (45.7%), F1: 0.470 | ⚡16.0W 1.1GB | 7.3s\n"
     ]
    },
    {
     "name": "stderr",
     "output_type": "stream",
     "text": [
      "                                                                                                             \r"
     ]
    },
    {
     "name": "stdout",
     "output_type": "stream",
     "text": [
      "ANN Epoch 23: Train Loss: 1.2914, Train Acc: 0.515 (51.5%) | Val Loss: 1.3464, Val Acc: 0.480 (48.0%), F1: 0.467 | ⚡16.1W 1.1GB | 7.3s\n"
     ]
    },
    {
     "name": "stderr",
     "output_type": "stream",
     "text": [
      "                                                                                                             \r"
     ]
    },
    {
     "name": "stdout",
     "output_type": "stream",
     "text": [
      "ANN Epoch 24: Train Loss: 1.2944, Train Acc: 0.512 (51.2%) | Val Loss: 1.4663, Val Acc: 0.434 (43.4%), F1: 0.453 | ⚡16.1W 1.1GB | 7.3s\n"
     ]
    },
    {
     "name": "stderr",
     "output_type": "stream",
     "text": [
      "                                                                                                             \r"
     ]
    },
    {
     "name": "stdout",
     "output_type": "stream",
     "text": [
      "ANN Epoch 25: Train Loss: 1.2746, Train Acc: 0.516 (51.6%) | Val Loss: 1.3936, Val Acc: 0.464 (46.4%), F1: 0.455 | ⚡16.1W 1.1GB | 7.4s\n"
     ]
    },
    {
     "name": "stderr",
     "output_type": "stream",
     "text": [
      "                                                                                                             \r"
     ]
    },
    {
     "name": "stdout",
     "output_type": "stream",
     "text": [
      "ANN Epoch 26: Train Loss: 1.2643, Train Acc: 0.525 (52.5%) | Val Loss: 1.3247, Val Acc: 0.494 (49.4%), F1: 0.475 | ⚡16.3W 1.1GB | 7.4s\n",
      " Meilleur modèle sauvegardé: 0.494\n"
     ]
    },
    {
     "name": "stderr",
     "output_type": "stream",
     "text": [
      "                                                                                                             \r"
     ]
    },
    {
     "name": "stdout",
     "output_type": "stream",
     "text": [
      "ANN Epoch 27: Train Loss: 1.2580, Train Acc: 0.521 (52.1%) | Val Loss: 1.3064, Val Acc: 0.493 (49.3%), F1: 0.482 | ⚡16.5W 1.1GB | 7.4s\n"
     ]
    },
    {
     "name": "stderr",
     "output_type": "stream",
     "text": [
      "                                                                                                             \r"
     ]
    },
    {
     "name": "stdout",
     "output_type": "stream",
     "text": [
      "ANN Epoch 28: Train Loss: 1.2411, Train Acc: 0.530 (53.0%) | Val Loss: 1.2937, Val Acc: 0.497 (49.7%), F1: 0.476 | ⚡16.7W 1.1GB | 7.4s\n",
      " Meilleur modèle sauvegardé: 0.497\n"
     ]
    },
    {
     "name": "stderr",
     "output_type": "stream",
     "text": [
      "                                                                                                             \r"
     ]
    },
    {
     "name": "stdout",
     "output_type": "stream",
     "text": [
      "ANN Epoch 29: Train Loss: 1.2312, Train Acc: 0.537 (53.7%) | Val Loss: 1.3315, Val Acc: 0.488 (48.8%), F1: 0.492 | ⚡16.4W 1.1GB | 7.3s\n"
     ]
    },
    {
     "name": "stderr",
     "output_type": "stream",
     "text": [
      "                                                                                                             \r"
     ]
    },
    {
     "name": "stdout",
     "output_type": "stream",
     "text": [
      "ANN Epoch 30: Train Loss: 1.2190, Train Acc: 0.542 (54.2%) | Val Loss: 1.3397, Val Acc: 0.488 (48.8%), F1: 0.486 | ⚡16.7W 1.1GB | 7.4s\n"
     ]
    },
    {
     "name": "stderr",
     "output_type": "stream",
     "text": [
      "                                                                                                             \r"
     ]
    },
    {
     "name": "stdout",
     "output_type": "stream",
     "text": [
      "ANN Epoch 31: Train Loss: 1.2169, Train Acc: 0.539 (53.9%) | Val Loss: 1.3239, Val Acc: 0.488 (48.8%), F1: 0.485 | ⚡16.5W 1.1GB | 7.3s\n"
     ]
    },
    {
     "name": "stderr",
     "output_type": "stream",
     "text": [
      "                                                                                                             \r"
     ]
    },
    {
     "name": "stdout",
     "output_type": "stream",
     "text": [
      "ANN Epoch 32: Train Loss: 1.1999, Train Acc: 0.546 (54.6%) | Val Loss: 1.2763, Val Acc: 0.509 (50.9%), F1: 0.487 | ⚡16.5W 1.1GB | 7.3s\n",
      " Meilleur modèle sauvegardé: 0.509\n"
     ]
    },
    {
     "name": "stderr",
     "output_type": "stream",
     "text": [
      "                                                                                                             \r"
     ]
    },
    {
     "name": "stdout",
     "output_type": "stream",
     "text": [
      "ANN Epoch 33: Train Loss: 1.2021, Train Acc: 0.548 (54.8%) | Val Loss: 1.2637, Val Acc: 0.511 (51.1%), F1: 0.484 | ⚡16.6W 1.1GB | 7.4s\n",
      " Meilleur modèle sauvegardé: 0.511\n"
     ]
    },
    {
     "name": "stderr",
     "output_type": "stream",
     "text": [
      "                                                                                                             \r"
     ]
    },
    {
     "name": "stdout",
     "output_type": "stream",
     "text": [
      "ANN Epoch 34: Train Loss: 1.1833, Train Acc: 0.552 (55.2%) | Val Loss: 1.2762, Val Acc: 0.508 (50.8%), F1: 0.497 | ⚡16.2W 1.1GB | 7.3s\n"
     ]
    },
    {
     "name": "stderr",
     "output_type": "stream",
     "text": [
      "                                                                                                             \r"
     ]
    },
    {
     "name": "stdout",
     "output_type": "stream",
     "text": [
      "ANN Epoch 35: Train Loss: 1.1713, Train Acc: 0.560 (56.0%) | Val Loss: 1.2515, Val Acc: 0.520 (52.0%), F1: 0.510 | ⚡16.2W 1.1GB | 7.3s\n",
      " Meilleur modèle sauvegardé: 0.520\n"
     ]
    },
    {
     "name": "stderr",
     "output_type": "stream",
     "text": [
      "                                                                                                             \r"
     ]
    },
    {
     "name": "stdout",
     "output_type": "stream",
     "text": [
      "ANN Epoch 36: Train Loss: 1.1707, Train Acc: 0.556 (55.6%) | Val Loss: 1.2826, Val Acc: 0.506 (50.6%), F1: 0.503 | ⚡16.3W 1.1GB | 7.3s\n"
     ]
    },
    {
     "name": "stderr",
     "output_type": "stream",
     "text": [
      "                                                                                                             \r"
     ]
    },
    {
     "name": "stdout",
     "output_type": "stream",
     "text": [
      "ANN Epoch 37: Train Loss: 1.1616, Train Acc: 0.561 (56.1%) | Val Loss: 1.2853, Val Acc: 0.504 (50.4%), F1: 0.491 | ⚡16.3W 1.1GB | 7.3s\n"
     ]
    },
    {
     "name": "stderr",
     "output_type": "stream",
     "text": [
      "                                                                                                             \r"
     ]
    },
    {
     "name": "stdout",
     "output_type": "stream",
     "text": [
      "ANN Epoch 38: Train Loss: 1.1537, Train Acc: 0.565 (56.5%) | Val Loss: 1.2468, Val Acc: 0.521 (52.1%), F1: 0.512 | ⚡16.2W 1.1GB | 7.3s\n",
      " Meilleur modèle sauvegardé: 0.521\n"
     ]
    },
    {
     "name": "stderr",
     "output_type": "stream",
     "text": [
      "                                                                                                             \r"
     ]
    },
    {
     "name": "stdout",
     "output_type": "stream",
     "text": [
      "ANN Epoch 39: Train Loss: 1.1424, Train Acc: 0.570 (57.0%) | Val Loss: 1.2426, Val Acc: 0.525 (52.5%), F1: 0.509 | ⚡16.2W 1.1GB | 7.3s\n",
      " Meilleur modèle sauvegardé: 0.525\n"
     ]
    },
    {
     "name": "stderr",
     "output_type": "stream",
     "text": [
      "                                                                                                             \r"
     ]
    },
    {
     "name": "stdout",
     "output_type": "stream",
     "text": [
      "ANN Epoch 40: Train Loss: 1.1390, Train Acc: 0.572 (57.2%) | Val Loss: 1.2339, Val Acc: 0.529 (52.9%), F1: 0.512 | ⚡16.4W 1.1GB | 7.4s\n",
      " Meilleur modèle sauvegardé: 0.529\n"
     ]
    },
    {
     "name": "stderr",
     "output_type": "stream",
     "text": [
      "                                                                                                             \r"
     ]
    },
    {
     "name": "stdout",
     "output_type": "stream",
     "text": [
      "ANN Epoch 41: Train Loss: 1.1400, Train Acc: 0.573 (57.3%) | Val Loss: 1.2483, Val Acc: 0.523 (52.3%), F1: 0.509 | ⚡16.2W 1.1GB | 7.3s\n"
     ]
    },
    {
     "name": "stderr",
     "output_type": "stream",
     "text": [
      "                                                                                                             \r"
     ]
    },
    {
     "name": "stdout",
     "output_type": "stream",
     "text": [
      "ANN Epoch 42: Train Loss: 1.1333, Train Acc: 0.572 (57.2%) | Val Loss: 1.2305, Val Acc: 0.527 (52.7%), F1: 0.512 | ⚡16.1W 1.1GB | 7.3s\n"
     ]
    },
    {
     "name": "stderr",
     "output_type": "stream",
     "text": [
      "                                                                                                             \r"
     ]
    },
    {
     "name": "stdout",
     "output_type": "stream",
     "text": [
      "ANN Epoch 43: Train Loss: 1.1119, Train Acc: 0.586 (58.6%) | Val Loss: 1.2330, Val Acc: 0.530 (53.0%), F1: 0.517 | ⚡16.1W 1.1GB | 7.3s\n",
      " Meilleur modèle sauvegardé: 0.530\n"
     ]
    },
    {
     "name": "stderr",
     "output_type": "stream",
     "text": [
      "                                                                                                             \r"
     ]
    },
    {
     "name": "stdout",
     "output_type": "stream",
     "text": [
      "ANN Epoch 44: Train Loss: 1.1157, Train Acc: 0.581 (58.1%) | Val Loss: 1.2329, Val Acc: 0.527 (52.7%), F1: 0.520 | ⚡16.1W 1.1GB | 7.3s\n"
     ]
    },
    {
     "name": "stderr",
     "output_type": "stream",
     "text": [
      "                                                                                                             \r"
     ]
    },
    {
     "name": "stdout",
     "output_type": "stream",
     "text": [
      "ANN Epoch 45: Train Loss: 1.1191, Train Acc: 0.581 (58.1%) | Val Loss: 1.2221, Val Acc: 0.534 (53.4%), F1: 0.515 | ⚡16.1W 1.1GB | 7.3s\n",
      " Meilleur modèle sauvegardé: 0.534\n"
     ]
    },
    {
     "name": "stderr",
     "output_type": "stream",
     "text": [
      "                                                                                                             \r"
     ]
    },
    {
     "name": "stdout",
     "output_type": "stream",
     "text": [
      "ANN Epoch 46: Train Loss: 1.1249, Train Acc: 0.574 (57.4%) | Val Loss: 1.2205, Val Acc: 0.534 (53.4%), F1: 0.523 | ⚡16.2W 1.1GB | 7.3s\n",
      " Meilleur modèle sauvegardé: 0.534\n"
     ]
    },
    {
     "name": "stderr",
     "output_type": "stream",
     "text": [
      "                                                                                                             \r"
     ]
    },
    {
     "name": "stdout",
     "output_type": "stream",
     "text": [
      "ANN Epoch 47: Train Loss: 1.1128, Train Acc: 0.582 (58.2%) | Val Loss: 1.2266, Val Acc: 0.531 (53.1%), F1: 0.523 | ⚡16.4W 1.1GB | 7.4s\n"
     ]
    },
    {
     "name": "stderr",
     "output_type": "stream",
     "text": [
      "                                                                                                             \r"
     ]
    },
    {
     "name": "stdout",
     "output_type": "stream",
     "text": [
      "ANN Epoch 48: Train Loss: 1.1163, Train Acc: 0.581 (58.1%) | Val Loss: 1.2209, Val Acc: 0.532 (53.2%), F1: 0.524 | ⚡16.4W 1.1GB | 7.4s\n"
     ]
    },
    {
     "name": "stderr",
     "output_type": "stream",
     "text": [
      "                                                                                                             \r"
     ]
    },
    {
     "name": "stdout",
     "output_type": "stream",
     "text": [
      "ANN Epoch 49: Train Loss: 1.1176, Train Acc: 0.582 (58.2%) | Val Loss: 1.2224, Val Acc: 0.531 (53.1%), F1: 0.523 | ⚡16.2W 1.1GB | 7.3s\n"
     ]
    },
    {
     "name": "stderr",
     "output_type": "stream",
     "text": [
      "                                                                                                             \r"
     ]
    },
    {
     "name": "stdout",
     "output_type": "stream",
     "text": [
      "ANN Epoch 50: Train Loss: 1.1113, Train Acc: 0.581 (58.1%) | Val Loss: 1.2197, Val Acc: 0.532 (53.2%), F1: 0.525 | ⚡16.2W 1.1GB | 7.3s\n",
      "\n",
      " ANN - Entraînement terminé:\n",
      "    Meilleure accuracy: 0.534 (53.4%) à l'époque 46\n",
      "    ⚡ Consommation moyenne: 16.2W (max: 17.5W)\n",
      "   Mémoire moyenne: 1.1GB\n"
     ]
    }
   ],
   "source": [
    "# =============================================================================\n",
    "# 7. ENTRAÎNEMENT DU BASELINE ANN\n",
    "# =============================================================================\n",
    "\n",
    "print(\"\\n\" + \"=\" * 50)\n",
    "print(\" ENTRAÎNEMENT ANN BASELINE\")\n",
    "print(\"=\" * 50)\n",
    "print(\"L'ANN baseline va nous indiquer si les données sont exploitables...\")\n",
    "\n",
    "# Création du modèle ANN\n",
    "ann_model = create_baseline_ann(num_classes=config.num_classes)\n",
    "ann_model = ann_model.to(device)\n",
    "\n",
    "print(f\" ANN créé avec {get_model_info(ann_model)['total_params']:,} paramètres\")\n",
    "\n",
    "# Entraînement\n",
    "ann_results = train_model(\n",
    "    model=ann_model,\n",
    "    model_name=\"ANN\",\n",
    "    train_loader=train_loader,\n",
    "    test_loader=test_loader,\n",
    "    config=config,\n",
    "    device=device\n",
    ")"
   ]
  },
  {
   "cell_type": "code",
   "execution_count": 10,
   "id": "4c49bde6",
   "metadata": {},
   "outputs": [
    {
     "name": "stdout",
     "output_type": "stream",
     "text": [
      "\n",
      "==================================================\n",
      " ENTRAÎNEMENT SNN SIMPLIFIÉ\n",
      "==================================================\n",
      "🔧 Création du modèle SNN (simple)...\n",
      " Modèle SNN créé avec succès\n",
      "   Architecture: simple\n",
      "   Paramètres totaux: 430,240\n",
      "   Paramètres entraînables: 430,240\n",
      "   Classes: 7\n",
      "   Pas temporels: 8\n",
      "   ⚡ Paramètres tau: tous > 1.0 (SpikingJelly compatible)\n",
      " SNN créé avec 430,240 paramètres\n",
      "\n",
      " ENTRAÎNEMENT SNN\n",
      "------------------------------\n"
     ]
    },
    {
     "name": "stderr",
     "output_type": "stream",
     "text": [
      "                                                                                                            \r"
     ]
    },
    {
     "name": "stdout",
     "output_type": "stream",
     "text": [
      "SNN Epoch  1: Train Loss: 1.9063, Train Acc: 0.203 (20.3%) | Val Loss: 1.8363, Val Acc: 0.218 (21.8%), F1: 0.217 | ⚡56.0W 1.2GB | 28.0s\n",
      " Meilleur modèle sauvegardé: 0.218\n"
     ]
    },
    {
     "name": "stderr",
     "output_type": "stream",
     "text": [
      "                                                                                                            \r"
     ]
    },
    {
     "name": "stdout",
     "output_type": "stream",
     "text": [
      "SNN Epoch  2: Train Loss: 1.7932, Train Acc: 0.280 (28.0%) | Val Loss: 1.7591, Val Acc: 0.271 (27.1%), F1: 0.280 | ⚡57.7W 1.3GB | 26.5s\n",
      " Meilleur modèle sauvegardé: 0.271\n"
     ]
    },
    {
     "name": "stderr",
     "output_type": "stream",
     "text": [
      "                                                                                                            \r"
     ]
    },
    {
     "name": "stdout",
     "output_type": "stream",
     "text": [
      "SNN Epoch  3: Train Loss: 1.7044, Train Acc: 0.326 (32.6%) | Val Loss: 1.6894, Val Acc: 0.335 (33.5%), F1: 0.333 | ⚡58.5W 1.3GB | 25.7s\n",
      " Meilleur modèle sauvegardé: 0.335\n"
     ]
    },
    {
     "name": "stderr",
     "output_type": "stream",
     "text": [
      "                                                                                                            \r"
     ]
    },
    {
     "name": "stdout",
     "output_type": "stream",
     "text": [
      "SNN Epoch  4: Train Loss: 1.6408, Train Acc: 0.363 (36.3%) | Val Loss: 1.6215, Val Acc: 0.373 (37.3%), F1: 0.370 | ⚡58.8W 1.3GB | 25.6s\n",
      " Meilleur modèle sauvegardé: 0.373\n"
     ]
    },
    {
     "name": "stderr",
     "output_type": "stream",
     "text": [
      "                                                                                                            \r"
     ]
    },
    {
     "name": "stdout",
     "output_type": "stream",
     "text": [
      "SNN Epoch  5: Train Loss: 1.5886, Train Acc: 0.390 (39.0%) | Val Loss: 1.5402, Val Acc: 0.408 (40.8%), F1: 0.391 | ⚡58.5W 1.2GB | 26.1s\n",
      " Meilleur modèle sauvegardé: 0.408\n"
     ]
    },
    {
     "name": "stderr",
     "output_type": "stream",
     "text": [
      "                                                                                                            \r"
     ]
    },
    {
     "name": "stdout",
     "output_type": "stream",
     "text": [
      "SNN Epoch  6: Train Loss: 1.5463, Train Acc: 0.405 (40.5%) | Val Loss: 1.5244, Val Acc: 0.402 (40.2%), F1: 0.369 | ⚡58.7W 1.1GB | 26.0s\n"
     ]
    },
    {
     "name": "stderr",
     "output_type": "stream",
     "text": [
      "                                                                                                            \r"
     ]
    },
    {
     "name": "stdout",
     "output_type": "stream",
     "text": [
      "SNN Epoch  7: Train Loss: 1.5107, Train Acc: 0.422 (42.2%) | Val Loss: 1.5306, Val Acc: 0.400 (40.0%), F1: 0.394 | ⚡58.6W 1.1GB | 26.2s\n"
     ]
    },
    {
     "name": "stderr",
     "output_type": "stream",
     "text": [
      "                                                                                                            \r"
     ]
    },
    {
     "name": "stdout",
     "output_type": "stream",
     "text": [
      "SNN Epoch  8: Train Loss: 1.4882, Train Acc: 0.433 (43.3%) | Val Loss: 1.5278, Val Acc: 0.401 (40.1%), F1: 0.397 | ⚡58.6W 1.1GB | 26.4s\n"
     ]
    },
    {
     "name": "stderr",
     "output_type": "stream",
     "text": [
      "                                                                                                            \r"
     ]
    },
    {
     "name": "stdout",
     "output_type": "stream",
     "text": [
      "SNN Epoch  9: Train Loss: 1.4664, Train Acc: 0.443 (44.3%) | Val Loss: 1.4996, Val Acc: 0.422 (42.2%), F1: 0.401 | ⚡58.9W 1.1GB | 25.9s\n",
      " Meilleur modèle sauvegardé: 0.422\n"
     ]
    },
    {
     "name": "stderr",
     "output_type": "stream",
     "text": [
      "                                                                                                            \r"
     ]
    },
    {
     "name": "stdout",
     "output_type": "stream",
     "text": [
      "SNN Epoch 10: Train Loss: 1.4367, Train Acc: 0.451 (45.1%) | Val Loss: 1.4860, Val Acc: 0.413 (41.3%), F1: 0.407 | ⚡59.0W 1.1GB | 25.6s\n"
     ]
    },
    {
     "name": "stderr",
     "output_type": "stream",
     "text": [
      "                                                                                                            \r"
     ]
    },
    {
     "name": "stdout",
     "output_type": "stream",
     "text": [
      "SNN Epoch 11: Train Loss: 1.4245, Train Acc: 0.458 (45.8%) | Val Loss: 1.4264, Val Acc: 0.438 (43.8%), F1: 0.429 | ⚡58.8W 1.1GB | 26.0s\n",
      " Meilleur modèle sauvegardé: 0.438\n"
     ]
    },
    {
     "name": "stderr",
     "output_type": "stream",
     "text": [
      "                                                                                                            \r"
     ]
    },
    {
     "name": "stdout",
     "output_type": "stream",
     "text": [
      "SNN Epoch 12: Train Loss: 1.4119, Train Acc: 0.460 (46.0%) | Val Loss: 1.4419, Val Acc: 0.437 (43.7%), F1: 0.418 | ⚡58.9W 1.1GB | 25.8s\n"
     ]
    },
    {
     "name": "stderr",
     "output_type": "stream",
     "text": [
      "                                                                                                            \r"
     ]
    },
    {
     "name": "stdout",
     "output_type": "stream",
     "text": [
      "SNN Epoch 13: Train Loss: 1.3906, Train Acc: 0.471 (47.1%) | Val Loss: 1.4826, Val Acc: 0.424 (42.4%), F1: 0.417 | ⚡59.0W 1.1GB | 25.8s\n"
     ]
    },
    {
     "name": "stderr",
     "output_type": "stream",
     "text": [
      "                                                                                                            \r"
     ]
    },
    {
     "name": "stdout",
     "output_type": "stream",
     "text": [
      "SNN Epoch 14: Train Loss: 1.3789, Train Acc: 0.473 (47.3%) | Val Loss: 1.4341, Val Acc: 0.445 (44.5%), F1: 0.435 | ⚡59.0W 1.1GB | 25.8s\n",
      " Meilleur modèle sauvegardé: 0.445\n"
     ]
    },
    {
     "name": "stderr",
     "output_type": "stream",
     "text": [
      "                                                                                                            \r"
     ]
    },
    {
     "name": "stdout",
     "output_type": "stream",
     "text": [
      "SNN Epoch 15: Train Loss: 1.3747, Train Acc: 0.477 (47.7%) | Val Loss: 1.4120, Val Acc: 0.451 (45.1%), F1: 0.434 | ⚡58.7W 1.1GB | 26.5s\n",
      " Meilleur modèle sauvegardé: 0.451\n"
     ]
    },
    {
     "name": "stderr",
     "output_type": "stream",
     "text": [
      "                                                                                                            \r"
     ]
    },
    {
     "name": "stdout",
     "output_type": "stream",
     "text": [
      "SNN Epoch 16: Train Loss: 1.3571, Train Acc: 0.481 (48.1%) | Val Loss: 1.4222, Val Acc: 0.449 (44.9%), F1: 0.446 | ⚡58.5W 1.1GB | 27.0s\n"
     ]
    },
    {
     "name": "stderr",
     "output_type": "stream",
     "text": [
      "                                                                                                            \r"
     ]
    },
    {
     "name": "stdout",
     "output_type": "stream",
     "text": [
      "SNN Epoch 17: Train Loss: 1.3544, Train Acc: 0.483 (48.3%) | Val Loss: 1.3960, Val Acc: 0.457 (45.7%), F1: 0.461 | ⚡58.6W 1.2GB | 27.0s\n",
      " Meilleur modèle sauvegardé: 0.457\n"
     ]
    },
    {
     "name": "stderr",
     "output_type": "stream",
     "text": [
      "                                                                                                            \r"
     ]
    },
    {
     "name": "stdout",
     "output_type": "stream",
     "text": [
      "SNN Epoch 18: Train Loss: 1.3361, Train Acc: 0.493 (49.3%) | Val Loss: 1.3629, Val Acc: 0.469 (46.9%), F1: 0.469 | ⚡58.9W 1.2GB | 26.6s\n",
      " Meilleur modèle sauvegardé: 0.469\n"
     ]
    },
    {
     "name": "stderr",
     "output_type": "stream",
     "text": [
      "                                                                                                            \r"
     ]
    },
    {
     "name": "stdout",
     "output_type": "stream",
     "text": [
      "SNN Epoch 19: Train Loss: 1.3270, Train Acc: 0.496 (49.6%) | Val Loss: 1.3903, Val Acc: 0.457 (45.7%), F1: 0.442 | ⚡58.8W 1.2GB | 26.0s\n"
     ]
    },
    {
     "name": "stderr",
     "output_type": "stream",
     "text": [
      "                                                                                                            \r"
     ]
    },
    {
     "name": "stdout",
     "output_type": "stream",
     "text": [
      "SNN Epoch 20: Train Loss: 1.3052, Train Acc: 0.505 (50.5%) | Val Loss: 1.3675, Val Acc: 0.463 (46.3%), F1: 0.458 | ⚡58.9W 1.2GB | 26.3s\n"
     ]
    },
    {
     "name": "stderr",
     "output_type": "stream",
     "text": [
      "                                                                                                            \r"
     ]
    },
    {
     "name": "stdout",
     "output_type": "stream",
     "text": [
      "SNN Epoch 21: Train Loss: 1.3023, Train Acc: 0.507 (50.7%) | Val Loss: 1.3350, Val Acc: 0.474 (47.4%), F1: 0.462 | ⚡58.8W 1.2GB | 26.5s\n",
      " Meilleur modèle sauvegardé: 0.474\n"
     ]
    },
    {
     "name": "stderr",
     "output_type": "stream",
     "text": [
      "                                                                                                            \r"
     ]
    },
    {
     "name": "stdout",
     "output_type": "stream",
     "text": [
      "SNN Epoch 22: Train Loss: 1.2843, Train Acc: 0.509 (50.9%) | Val Loss: 1.3895, Val Acc: 0.466 (46.6%), F1: 0.471 | ⚡58.9W 1.2GB | 26.2s\n"
     ]
    },
    {
     "name": "stderr",
     "output_type": "stream",
     "text": [
      "                                                                                                            \r"
     ]
    },
    {
     "name": "stdout",
     "output_type": "stream",
     "text": [
      "SNN Epoch 23: Train Loss: 1.2866, Train Acc: 0.512 (51.2%) | Val Loss: 1.3786, Val Acc: 0.465 (46.5%), F1: 0.466 | ⚡58.9W 1.2GB | 26.2s\n"
     ]
    },
    {
     "name": "stderr",
     "output_type": "stream",
     "text": [
      "                                                                                                            \r"
     ]
    },
    {
     "name": "stdout",
     "output_type": "stream",
     "text": [
      "SNN Epoch 24: Train Loss: 1.2741, Train Acc: 0.512 (51.2%) | Val Loss: 1.3544, Val Acc: 0.476 (47.6%), F1: 0.473 | ⚡59.0W 1.2GB | 26.4s\n",
      " Meilleur modèle sauvegardé: 0.476\n"
     ]
    },
    {
     "name": "stderr",
     "output_type": "stream",
     "text": [
      "                                                                                                            \r"
     ]
    },
    {
     "name": "stdout",
     "output_type": "stream",
     "text": [
      "SNN Epoch 25: Train Loss: 1.2607, Train Acc: 0.521 (52.1%) | Val Loss: 1.2921, Val Acc: 0.495 (49.5%), F1: 0.476 | ⚡58.9W 1.2GB | 26.5s\n",
      " Meilleur modèle sauvegardé: 0.495\n"
     ]
    },
    {
     "name": "stderr",
     "output_type": "stream",
     "text": [
      "                                                                                                            \r"
     ]
    },
    {
     "name": "stdout",
     "output_type": "stream",
     "text": [
      "SNN Epoch 26: Train Loss: 1.2583, Train Acc: 0.518 (51.8%) | Val Loss: 1.3195, Val Acc: 0.489 (48.9%), F1: 0.487 | ⚡59.0W 1.2GB | 26.2s\n"
     ]
    },
    {
     "name": "stderr",
     "output_type": "stream",
     "text": [
      "                                                                                                            \r"
     ]
    },
    {
     "name": "stdout",
     "output_type": "stream",
     "text": [
      "SNN Epoch 27: Train Loss: 1.2459, Train Acc: 0.525 (52.5%) | Val Loss: 1.3036, Val Acc: 0.497 (49.7%), F1: 0.490 | ⚡59.0W 1.2GB | 26.0s\n",
      " Meilleur modèle sauvegardé: 0.497\n"
     ]
    },
    {
     "name": "stderr",
     "output_type": "stream",
     "text": [
      "                                                                                                            \r"
     ]
    },
    {
     "name": "stdout",
     "output_type": "stream",
     "text": [
      "SNN Epoch 28: Train Loss: 1.2357, Train Acc: 0.529 (52.9%) | Val Loss: 1.3013, Val Acc: 0.495 (49.5%), F1: 0.482 | ⚡59.0W 1.2GB | 25.7s\n"
     ]
    },
    {
     "name": "stderr",
     "output_type": "stream",
     "text": [
      "                                                                                                            \r"
     ]
    },
    {
     "name": "stdout",
     "output_type": "stream",
     "text": [
      "SNN Epoch 29: Train Loss: 1.2245, Train Acc: 0.532 (53.2%) | Val Loss: 1.3037, Val Acc: 0.495 (49.5%), F1: 0.494 | ⚡58.9W 1.2GB | 25.9s\n"
     ]
    },
    {
     "name": "stderr",
     "output_type": "stream",
     "text": [
      "                                                                                                            \r"
     ]
    },
    {
     "name": "stdout",
     "output_type": "stream",
     "text": [
      "SNN Epoch 30: Train Loss: 1.2148, Train Acc: 0.535 (53.5%) | Val Loss: 1.3425, Val Acc: 0.481 (48.1%), F1: 0.480 | ⚡58.9W 1.2GB | 25.7s\n"
     ]
    },
    {
     "name": "stderr",
     "output_type": "stream",
     "text": [
      "                                                                                                            \r"
     ]
    },
    {
     "name": "stdout",
     "output_type": "stream",
     "text": [
      "SNN Epoch 31: Train Loss: 1.2145, Train Acc: 0.536 (53.6%) | Val Loss: 1.2846, Val Acc: 0.500 (50.0%), F1: 0.498 | ⚡59.0W 1.2GB | 25.6s\n",
      " Meilleur modèle sauvegardé: 0.500\n"
     ]
    },
    {
     "name": "stderr",
     "output_type": "stream",
     "text": [
      "                                                                                                            \r"
     ]
    },
    {
     "name": "stdout",
     "output_type": "stream",
     "text": [
      "SNN Epoch 32: Train Loss: 1.2018, Train Acc: 0.542 (54.2%) | Val Loss: 1.3137, Val Acc: 0.493 (49.3%), F1: 0.486 | ⚡58.9W 1.2GB | 25.8s\n"
     ]
    },
    {
     "name": "stderr",
     "output_type": "stream",
     "text": [
      "                                                                                                            \r"
     ]
    },
    {
     "name": "stdout",
     "output_type": "stream",
     "text": [
      "SNN Epoch 33: Train Loss: 1.1926, Train Acc: 0.545 (54.5%) | Val Loss: 1.2692, Val Acc: 0.506 (50.6%), F1: 0.501 | ⚡58.9W 1.1GB | 26.0s\n",
      " Meilleur modèle sauvegardé: 0.506\n"
     ]
    },
    {
     "name": "stderr",
     "output_type": "stream",
     "text": [
      "                                                                                                            \r"
     ]
    },
    {
     "name": "stdout",
     "output_type": "stream",
     "text": [
      "SNN Epoch 34: Train Loss: 1.1979, Train Acc: 0.538 (53.8%) | Val Loss: 1.2615, Val Acc: 0.509 (50.9%), F1: 0.502 | ⚡58.8W 1.1GB | 26.2s\n",
      " Meilleur modèle sauvegardé: 0.509\n"
     ]
    },
    {
     "name": "stderr",
     "output_type": "stream",
     "text": [
      "                                                                                                            \r"
     ]
    },
    {
     "name": "stdout",
     "output_type": "stream",
     "text": [
      "SNN Epoch 35: Train Loss: 1.1817, Train Acc: 0.551 (55.1%) | Val Loss: 1.2964, Val Acc: 0.503 (50.3%), F1: 0.500 | ⚡59.0W 1.1GB | 26.0s\n"
     ]
    },
    {
     "name": "stderr",
     "output_type": "stream",
     "text": [
      "                                                                                                            \r"
     ]
    },
    {
     "name": "stdout",
     "output_type": "stream",
     "text": [
      "SNN Epoch 36: Train Loss: 1.1673, Train Acc: 0.554 (55.4%) | Val Loss: 1.2852, Val Acc: 0.504 (50.4%), F1: 0.499 | ⚡58.8W 1.1GB | 26.1s\n"
     ]
    },
    {
     "name": "stderr",
     "output_type": "stream",
     "text": [
      "                                                                                                            \r"
     ]
    },
    {
     "name": "stdout",
     "output_type": "stream",
     "text": [
      "SNN Epoch 37: Train Loss: 1.1620, Train Acc: 0.556 (55.6%) | Val Loss: 1.2586, Val Acc: 0.515 (51.5%), F1: 0.509 | ⚡58.9W 1.1GB | 26.0s\n",
      " Meilleur modèle sauvegardé: 0.515\n"
     ]
    },
    {
     "name": "stderr",
     "output_type": "stream",
     "text": [
      "                                                                                                            \r"
     ]
    },
    {
     "name": "stdout",
     "output_type": "stream",
     "text": [
      "SNN Epoch 38: Train Loss: 1.1671, Train Acc: 0.559 (55.9%) | Val Loss: 1.2599, Val Acc: 0.508 (50.8%), F1: 0.502 | ⚡58.9W 1.1GB | 25.8s\n"
     ]
    },
    {
     "name": "stderr",
     "output_type": "stream",
     "text": [
      "                                                                                                            \r"
     ]
    },
    {
     "name": "stdout",
     "output_type": "stream",
     "text": [
      "SNN Epoch 39: Train Loss: 1.1500, Train Acc: 0.560 (56.0%) | Val Loss: 1.2468, Val Acc: 0.516 (51.6%), F1: 0.508 | ⚡58.8W 1.1GB | 25.8s\n",
      " Meilleur modèle sauvegardé: 0.516\n"
     ]
    },
    {
     "name": "stderr",
     "output_type": "stream",
     "text": [
      "                                                                                                            \r"
     ]
    },
    {
     "name": "stdout",
     "output_type": "stream",
     "text": [
      "SNN Epoch 40: Train Loss: 1.1608, Train Acc: 0.556 (55.6%) | Val Loss: 1.2474, Val Acc: 0.520 (52.0%), F1: 0.514 | ⚡58.8W 1.1GB | 26.2s\n",
      " Meilleur modèle sauvegardé: 0.520\n"
     ]
    },
    {
     "name": "stderr",
     "output_type": "stream",
     "text": [
      "                                                                                                            \r"
     ]
    },
    {
     "name": "stdout",
     "output_type": "stream",
     "text": [
      "SNN Epoch 41: Train Loss: 1.1379, Train Acc: 0.568 (56.8%) | Val Loss: 1.2480, Val Acc: 0.514 (51.4%), F1: 0.505 | ⚡58.9W 1.1GB | 26.0s\n"
     ]
    },
    {
     "name": "stderr",
     "output_type": "stream",
     "text": [
      "                                                                                                            \r"
     ]
    },
    {
     "name": "stdout",
     "output_type": "stream",
     "text": [
      "SNN Epoch 42: Train Loss: 1.1335, Train Acc: 0.569 (56.9%) | Val Loss: 1.2448, Val Acc: 0.517 (51.7%), F1: 0.513 | ⚡59.0W 1.1GB | 25.8s\n"
     ]
    },
    {
     "name": "stderr",
     "output_type": "stream",
     "text": [
      "                                                                                                            \r"
     ]
    },
    {
     "name": "stdout",
     "output_type": "stream",
     "text": [
      "SNN Epoch 43: Train Loss: 1.1337, Train Acc: 0.568 (56.8%) | Val Loss: 1.2413, Val Acc: 0.527 (52.7%), F1: 0.523 | ⚡58.6W 1.1GB | 27.2s\n",
      " Meilleur modèle sauvegardé: 0.527\n"
     ]
    },
    {
     "name": "stderr",
     "output_type": "stream",
     "text": [
      "                                                                                                            \r"
     ]
    },
    {
     "name": "stdout",
     "output_type": "stream",
     "text": [
      "SNN Epoch 44: Train Loss: 1.1350, Train Acc: 0.568 (56.8%) | Val Loss: 1.2418, Val Acc: 0.516 (51.6%), F1: 0.509 | ⚡59.0W 1.1GB | 26.0s\n"
     ]
    },
    {
     "name": "stderr",
     "output_type": "stream",
     "text": [
      "                                                                                                            \r"
     ]
    },
    {
     "name": "stdout",
     "output_type": "stream",
     "text": [
      "SNN Epoch 45: Train Loss: 1.1309, Train Acc: 0.565 (56.5%) | Val Loss: 1.2419, Val Acc: 0.522 (52.2%), F1: 0.514 | ⚡59.0W 1.1GB | 25.9s\n"
     ]
    },
    {
     "name": "stderr",
     "output_type": "stream",
     "text": [
      "                                                                                                            \r"
     ]
    },
    {
     "name": "stdout",
     "output_type": "stream",
     "text": [
      "SNN Epoch 46: Train Loss: 1.1223, Train Acc: 0.573 (57.3%) | Val Loss: 1.2420, Val Acc: 0.523 (52.3%), F1: 0.518 | ⚡59.1W 1.1GB | 25.7s\n"
     ]
    },
    {
     "name": "stderr",
     "output_type": "stream",
     "text": [
      "                                                                                                            \r"
     ]
    },
    {
     "name": "stdout",
     "output_type": "stream",
     "text": [
      "SNN Epoch 47: Train Loss: 1.1180, Train Acc: 0.573 (57.3%) | Val Loss: 1.2378, Val Acc: 0.527 (52.7%), F1: 0.522 | ⚡58.8W 1.1GB | 26.5s\n"
     ]
    },
    {
     "name": "stderr",
     "output_type": "stream",
     "text": [
      "                                                                                                            \r"
     ]
    },
    {
     "name": "stdout",
     "output_type": "stream",
     "text": [
      "SNN Epoch 48: Train Loss: 1.1232, Train Acc: 0.568 (56.8%) | Val Loss: 1.2290, Val Acc: 0.527 (52.7%), F1: 0.517 | ⚡58.7W 1.1GB | 26.6s\n"
     ]
    },
    {
     "name": "stderr",
     "output_type": "stream",
     "text": [
      "                                                                                                            \r"
     ]
    },
    {
     "name": "stdout",
     "output_type": "stream",
     "text": [
      "SNN Epoch 49: Train Loss: 1.1171, Train Acc: 0.574 (57.4%) | Val Loss: 1.2348, Val Acc: 0.524 (52.4%), F1: 0.517 | ⚡58.9W 1.1GB | 26.3s\n"
     ]
    },
    {
     "name": "stderr",
     "output_type": "stream",
     "text": [
      "                                                                                                            \r"
     ]
    },
    {
     "name": "stdout",
     "output_type": "stream",
     "text": [
      "SNN Epoch 50: Train Loss: 1.1169, Train Acc: 0.577 (57.7%) | Val Loss: 1.2259, Val Acc: 0.531 (53.1%), F1: 0.523 | ⚡58.9W 1.1GB | 26.0s\n",
      " Meilleur modèle sauvegardé: 0.531\n",
      "\n",
      " SNN - Entraînement terminé:\n",
      "    Meilleure accuracy: 0.531 (53.1%) à l'époque 50\n",
      "    ⚡ Consommation moyenne: 58.8W (max: 59.1W)\n",
      "   Mémoire moyenne: 1.1GB\n"
     ]
    }
   ],
   "source": [
    "# =============================================================================\n",
    "# 8. ENTRAÎNEMENT DU SNN\n",
    "# =============================================================================\n",
    "\n",
    "print(\"\\n\" + \"=\" * 50)\n",
    "print(\" ENTRAÎNEMENT SNN SIMPLIFIÉ\")\n",
    "print(\"=\" * 50)\n",
    "\n",
    "# Création du modèle SNN\n",
    "snn_model = create_simple_snn(\n",
    "    architecture=config.snn_architecture,\n",
    "    num_classes=config.num_classes,\n",
    "    num_timesteps=config.snn_timesteps\n",
    ")\n",
    "snn_model = snn_model.to(device)\n",
    "\n",
    "print(f\" SNN créé avec {get_model_info(snn_model)['total_params']:,} paramètres\")\n",
    "\n",
    "# Entraînement\n",
    "snn_results = train_model(\n",
    "    model=snn_model,\n",
    "    model_name=\"SNN\",\n",
    "    train_loader=train_loader,\n",
    "    test_loader=test_loader,\n",
    "    config=config,\n",
    "    device=device\n",
    ")\n"
   ]
  },
  {
   "cell_type": "code",
   "execution_count": 11,
   "id": "e8169117",
   "metadata": {},
   "outputs": [
    {
     "name": "stdout",
     "output_type": "stream",
     "text": [
      "\n",
      "==================================================\n",
      " RESULTS COMPARISON AND ANALYSIS\n",
      "==================================================\n",
      " FINAL RESULTS:\n",
      "   ANN Baseline:     0.534 (53.4%)\n",
      "   SNN Simple:       0.531 (53.1%)\n",
      "   SNN/ANN Ratio:    0.99\n",
      "   Absolute Gap:     0.003\n",
      "\n",
      "⚡ ENERGY METRICS:\n",
      "   ANN - Power:      16.2W average (max: 17.5W)\n",
      "   SNN - Power:      58.8W average (max: 59.1W)\n",
      "   SNN/ANN Ratio:    3.64\n",
      " SNN consumes 263.7% MORE energy than ANN\n",
      "\n",
      " MEMORY USAGE:\n",
      "   ANN - Memory:     1.1GB average\n",
      "   SNN - Memory:     1.1GB average\n",
      "   SNN/ANN Ratio:    1.05\n",
      "\n",
      " ENERGY EFFICIENCY (Accuracy/Watt):\n",
      "   ANN Efficiency:   0.0331\n",
      "   SNN Efficiency:   0.0090\n",
      "   SNN/ANN Ratio:    0.27\n",
      "  ANN more energy efficient for now\n",
      "\n",
      " DIAGNOSIS:\n",
      "   Data quality:      GOOD\n",
      "   SNN Performance:   COMPETITIVE PERFORMANCE\n",
      "   Energy efficiency:  TO OPTIMIZE - SNN consumes more\n"
     ]
    }
   ],
   "source": [
    "# =============================================================================\n",
    "# 9. RESULTS COMPARISON AND ANALYSIS\n",
    "# =============================================================================\n",
    "\n",
    "print(\"\\n\" + \"=\" * 50)\n",
    "print(\" RESULTS COMPARISON AND ANALYSIS\")\n",
    "print(\"=\" * 50)\n",
    "\n",
    "# Extraction of key metrics\n",
    "ann_best_acc = ann_results['best_val_acc']\n",
    "snn_best_acc = snn_results['best_val_acc']\n",
    "\n",
    "performance_ratio = snn_best_acc / ann_best_acc if ann_best_acc > 0 else 0\n",
    "\n",
    "print(\" FINAL RESULTS:\")\n",
    "print(f\"   ANN Baseline:     {ann_best_acc:.3f} ({ann_best_acc*100:.1f}%)\")\n",
    "print(f\"   SNN Simple:       {snn_best_acc:.3f} ({snn_best_acc*100:.1f}%)\")\n",
    "print(f\"   SNN/ANN Ratio:    {performance_ratio:.2f}\")\n",
    "print(f\"   Absolute Gap:     {abs(ann_best_acc - snn_best_acc):.3f}\")\n",
    "\n",
    "# Energy analysis if available\n",
    "if gpu_monitoring:\n",
    "    ann_avg_power = ann_results.get('avg_power', 0)\n",
    "    snn_avg_power = snn_results.get('avg_power', 0)\n",
    "    ann_max_power = ann_results.get('max_power', 0)\n",
    "    snn_max_power = snn_results.get('max_power', 0)\n",
    "    ann_avg_memory = ann_results.get('avg_memory', 0)\n",
    "    snn_avg_memory = snn_results.get('avg_memory', 0)\n",
    "    \n",
    "    power_ratio = snn_avg_power / ann_avg_power if ann_avg_power > 0 else 0\n",
    "    memory_ratio = snn_avg_memory / ann_avg_memory if ann_avg_memory > 0 else 0\n",
    "    \n",
    "    print(f\"\\n⚡ ENERGY METRICS:\")\n",
    "    print(f\"   ANN - Power:      {ann_avg_power:.1f}W average (max: {ann_max_power:.1f}W)\")\n",
    "    print(f\"   SNN - Power:      {snn_avg_power:.1f}W average (max: {snn_max_power:.1f}W)\")\n",
    "    print(f\"   SNN/ANN Ratio:    {power_ratio:.2f}\")\n",
    "    \n",
    "    if power_ratio < 1.0:\n",
    "        print(f\"  SNN consumes {(1-power_ratio)*100:.1f}% LESS energy than ANN!\")\n",
    "    elif power_ratio > 1.0:\n",
    "        print(f\" SNN consumes {(power_ratio-1)*100:.1f}% MORE energy than ANN\")\n",
    "    else:\n",
    "        print(f\" Similar consumption\")\n",
    "    \n",
    "    print(f\"\\n MEMORY USAGE:\")\n",
    "    print(f\"   ANN - Memory:     {ann_avg_memory:.1f}GB average\")\n",
    "    print(f\"   SNN - Memory:     {snn_avg_memory:.1f}GB average\")\n",
    "    print(f\"   SNN/ANN Ratio:    {memory_ratio:.2f}\")\n",
    "    \n",
    "    # Energy efficiency calculation (accuracy / watt)\n",
    "    ann_efficiency = ann_best_acc / ann_avg_power if ann_avg_power > 0 else 0\n",
    "    snn_efficiency = snn_best_acc / snn_avg_power if snn_avg_power > 0 else 0\n",
    "    efficiency_ratio = snn_efficiency / ann_efficiency if ann_efficiency > 0 else 0\n",
    "    \n",
    "    print(f\"\\n ENERGY EFFICIENCY (Accuracy/Watt):\")\n",
    "    print(f\"   ANN Efficiency:   {ann_efficiency:.4f}\")\n",
    "    print(f\"   SNN Efficiency:   {snn_efficiency:.4f}\")\n",
    "    print(f\"   SNN/ANN Ratio:    {efficiency_ratio:.2f}\")\n",
    "    \n",
    "    if efficiency_ratio > 1.0:\n",
    "        print(f\"   SNN {efficiency_ratio*100:.1f}% more energy efficient!\")\n",
    "    else:\n",
    "        print(f\"  ANN more energy efficient for now\")\n",
    "\n",
    "# Results classification\n",
    "if ann_best_acc < 0.25:\n",
    "    data_quality = \"PROBLEMATIC\"\n",
    "    data_color = \"red\"\n",
    "elif ann_best_acc < 0.4:\n",
    "    data_quality = \"MODERATE\" \n",
    "    data_color = \"orange\"\n",
    "else:\n",
    "    data_quality = \"GOOD\"\n",
    "    data_color = \"green\"\n",
    "\n",
    "if snn_best_acc < 0.15:\n",
    "    snn_status = \"CRITICAL FAILURE\"\n",
    "    snn_color = \"red\"\n",
    "elif snn_best_acc < ann_best_acc * 0.5:\n",
    "    snn_status = \"SEVERE UNDERPERFORMANCE\"\n",
    "    snn_color = \"red\"\n",
    "elif snn_best_acc < ann_best_acc * 0.7:\n",
    "    snn_status = \"SIGNIFICANT GAP\"\n",
    "    snn_color = \"orange\"\n",
    "elif snn_best_acc < ann_best_acc * 0.9:\n",
    "    snn_status = \"MODERATE GAP\"\n",
    "    snn_color = \"yellow\"\n",
    "else:\n",
    "    snn_status = \"COMPETITIVE PERFORMANCE\"\n",
    "    snn_color = \"green\"\n",
    "\n",
    "print(f\"\\n DIAGNOSIS:\")\n",
    "print(f\"   Data quality:      {data_quality}\")\n",
    "print(f\"   SNN Performance:   {snn_status}\")\n",
    "\n",
    "if gpu_monitoring:\n",
    "    if power_ratio < 0.8:\n",
    "        energy_status = \"EXCELLENT - SNN very efficient\"\n",
    "    elif power_ratio < 1.0:\n",
    "        energy_status = \"GOOD - SNN more efficient\"\n",
    "    elif power_ratio < 1.2:\n",
    "        energy_status = \"ACCEPTABLE - Similar consumption\"\n",
    "    else:\n",
    "        energy_status = \"TO OPTIMIZE - SNN consumes more\"\n",
    "    \n",
    "    print(f\"   Energy efficiency:  {energy_status}\")"
   ]
  },
  {
   "cell_type": "code",
   "execution_count": 12,
   "id": "c1c10c87",
   "metadata": {},
   "outputs": [
    {
     "name": "stdout",
     "output_type": "stream",
     "text": [
      "\n",
      " Generating visualizations...\n"
     ]
    },
    {
     "data": {
      "image/png": "[encoded data removed]",
      "text/plain": [
       "<Figure size 1500x1500 with 6 Axes>"
      ]
     },
     "metadata": {},
     "output_type": "display_data"
    },
    {
     "data": {
      "image/png": "[encoded data removed]",
      "text/plain": [
       "<Figure size 1600x600 with 4 Axes>"
      ]
     },
     "metadata": {},
     "output_type": "display_data"
    },
    {
     "name": "stdout",
     "output_type": "stream",
     "text": [
      " Charts saved in simple_snn_results/20250824_005442\n"
     ]
    }
   ],
   "source": [
    "# =============================================================================\n",
    "# 10. VISUALIZATIONS\n",
    "# =============================================================================\n",
    "\n",
    "def create_comparison_plots(ann_results, snn_results, save_dir):\n",
    "    \"\"\"Creates comparison charts with energy metrics\"\"\"\n",
    "    \n",
    "    epochs = range(1, len(ann_results['train_losses']) + 1)\n",
    "    snn_epochs = range(1, len(snn_results['train_losses']) + 1)\n",
    "    \n",
    "    # Style configuration\n",
    "    plt.style.use('default')\n",
    "    colors = {'ann': '#1f77b4', 'snn': '#ff7f0e'}\n",
    "    \n",
    "    # Figure creation with an additional line for energy\n",
    "    fig, axes = plt.subplots(3, 2, figsize=(15, 15))\n",
    "    fig.suptitle('ANN vs SNN Comparison - Training Results with Energy Metrics', fontsize=16)\n",
    "    \n",
    "    # 1. Training losses\n",
    "    axes[0, 0].plot(epochs, ann_results['train_losses'], \n",
    "                   color=colors['ann'], linewidth=2, label='ANN Train', marker='o', markersize=3)\n",
    "    axes[0, 0].plot(snn_epochs, snn_results['train_losses'], \n",
    "                   color=colors['snn'], linewidth=2, label='SNN Train', marker='s', markersize=3)\n",
    "    axes[0, 0].set_xlabel('Epochs')\n",
    "    axes[0, 0].set_ylabel('Training Loss')\n",
    "    axes[0, 0].set_title('Training Loss Evolution')\n",
    "    axes[0, 0].legend()\n",
    "    axes[0, 0].grid(True, alpha=0.3)\n",
    "    \n",
    "    # 2. Validation losses\n",
    "    axes[0, 1].plot(epochs, ann_results['val_losses'], \n",
    "                   color=colors['ann'], linewidth=2, label='ANN Val', marker='o', markersize=3)\n",
    "    axes[0, 1].plot(snn_epochs, snn_results['val_losses'], \n",
    "                   color=colors['snn'], linewidth=2, label='SNN Val', marker='s', markersize=3)\n",
    "    axes[0, 1].set_xlabel('Epochs')\n",
    "    axes[0, 1].set_ylabel('Validation Loss')\n",
    "    axes[0, 1].set_title('Validation Loss Evolution')\n",
    "    axes[0, 1].legend()\n",
    "    axes[0, 1].grid(True, alpha=0.3)\n",
    "    \n",
    "    # 3. Training accuracy\n",
    "    axes[1, 0].plot(epochs, [acc*100 for acc in ann_results['train_accs']], \n",
    "                   color=colors['ann'], linewidth=2, label='ANN Train', marker='o', markersize=3)\n",
    "    axes[1, 0].plot(snn_epochs, [acc*100 for acc in snn_results['train_accs']], \n",
    "                   color=colors['snn'], linewidth=2, label='SNN Train', marker='s', markersize=3)\n",
    "    axes[1, 0].set_xlabel('Epochs')\n",
    "    axes[1, 0].set_ylabel('Training Accuracy (%)')\n",
    "    axes[1, 0].set_title('Training Accuracy Evolution')\n",
    "    axes[1, 0].legend()\n",
    "    axes[1, 0].grid(True, alpha=0.3)\n",
    "    \n",
    "    # 4. Validation accuracy\n",
    "    axes[1, 1].plot(epochs, [acc*100 for acc in ann_results['val_accs']], \n",
    "                   color=colors['ann'], linewidth=2, label='ANN Val', marker='o', markersize=3)\n",
    "    axes[1, 1].plot(snn_epochs, [acc*100 for acc in snn_results['val_accs']], \n",
    "                   color=colors['snn'], linewidth=2, label='SNN Val', marker='s', markersize=3)\n",
    "    axes[1, 1].set_xlabel('Epochs')\n",
    "    axes[1, 1].set_ylabel('Validation Accuracy (%)')\n",
    "    axes[1, 1].set_title('Validation Accuracy Evolution')\n",
    "    axes[1, 1].legend()\n",
    "    axes[1, 1].grid(True, alpha=0.3)\n",
    "    \n",
    "    # Adding maximum performance annotations\n",
    "    ann_max_acc = max(ann_results['val_accs']) * 100\n",
    "    snn_max_acc = max(snn_results['val_accs']) * 100\n",
    "    \n",
    "    axes[1, 1].axhline(y=ann_max_acc, color=colors['ann'], linestyle='--', alpha=0.7)\n",
    "    axes[1, 1].axhline(y=snn_max_acc, color=colors['snn'], linestyle='--', alpha=0.7)\n",
    "    \n",
    "    axes[1, 1].text(0.02, 0.98, f'ANN Max: {ann_max_acc:.1f}%\\\\nSNN Max: {snn_max_acc:.1f}%', \n",
    "                   transform=axes[1, 1].transAxes, verticalalignment='top',\n",
    "                   bbox=dict(boxstyle='round', facecolor='wheat', alpha=0.8))\n",
    "    \n",
    "    # 5. NEW: Energy consumption\n",
    "    if gpu_monitoring and ann_results.get('power_usage') and snn_results.get('power_usage'):\n",
    "        axes[2, 0].plot(epochs, ann_results['power_usage'], \n",
    "                       color=colors['ann'], linewidth=2, label='ANN Power', marker='o', markersize=3)\n",
    "        axes[2, 0].plot(snn_epochs, snn_results['power_usage'], \n",
    "                       color=colors['snn'], linewidth=2, label='SNN Power', marker='s', markersize=3)\n",
    "        axes[2, 0].set_xlabel('Epochs')\n",
    "        axes[2, 0].set_ylabel('Energy Consumption (W)')\n",
    "        axes[2, 0].set_title('GPU Consumption Evolution')\n",
    "        axes[2, 0].legend()\n",
    "        axes[2, 0].grid(True, alpha=0.3)\n",
    "        \n",
    "        # Adding averages\n",
    "        ann_avg_power = ann_results.get('avg_power', 0)\n",
    "        snn_avg_power = snn_results.get('avg_power', 0)\n",
    "        axes[2, 0].axhline(y=ann_avg_power, color=colors['ann'], linestyle=':', alpha=0.7, label=f'ANN Avg: {ann_avg_power:.1f}W')\n",
    "        axes[2, 0].axhline(y=snn_avg_power, color=colors['snn'], linestyle=':', alpha=0.7, label=f'SNN Avg: {snn_avg_power:.1f}W')\n",
    "    else:\n",
    "        axes[2, 0].text(0.5, 0.5, 'Energy monitoring\\\\nnot available', \n",
    "                       ha='center', va='center', transform=axes[2, 0].transAxes,\n",
    "                       bbox=dict(boxstyle='round', facecolor='lightgray', alpha=0.7))\n",
    "        axes[2, 0].set_title('Energy Consumption')\n",
    "    \n",
    "    # 6. NEW: Memory usage\n",
    "    if gpu_monitoring and ann_results.get('memory_usage') and snn_results.get('memory_usage'):\n",
    "        axes[2, 1].plot(epochs, ann_results['memory_usage'], \n",
    "                       color=colors['ann'], linewidth=2, label='ANN Memory', marker='o', markersize=3)\n",
    "        axes[2, 1].plot(snn_epochs, snn_results['memory_usage'], \n",
    "                       color=colors['snn'], linewidth=2, label='SNN Memory', marker='s', markersize=3)\n",
    "        axes[2, 1].set_xlabel('Epochs')\n",
    "        axes[2, 1].set_ylabel('Memory Usage (GB)')\n",
    "        axes[2, 1].set_title('Memory Usage Evolution')\n",
    "        axes[2, 1].legend()\n",
    "        axes[2, 1].grid(True, alpha=0.3)\n",
    "        \n",
    "        # Adding averages\n",
    "        ann_avg_memory = ann_results.get('avg_memory', 0)\n",
    "        snn_avg_memory = snn_results.get('avg_memory', 0)\n",
    "        axes[2, 1].axhline(y=ann_avg_memory, color=colors['ann'], linestyle=':', alpha=0.7)\n",
    "        axes[2, 1].axhline(y=snn_avg_memory, color=colors['snn'], linestyle=':', alpha=0.7)\n",
    "        \n",
    "        # Average annotations\n",
    "        axes[2, 1].text(0.02, 0.98, f'ANN Avg: {ann_avg_memory:.1f}GB\\\\nSNN Avg: {snn_avg_memory:.1f}GB', \n",
    "                       transform=axes[2, 1].transAxes, verticalalignment='top',\n",
    "                       bbox=dict(boxstyle='round', facecolor='lightblue', alpha=0.8))\n",
    "    else:\n",
    "        axes[2, 1].text(0.5, 0.5, 'Memory monitoring\\\\nnot available', \n",
    "                       ha='center', va='center', transform=axes[2, 1].transAxes,\n",
    "                       bbox=dict(boxstyle='round', facecolor='lightgray', alpha=0.7))\n",
    "        axes[2, 1].set_title('Memory Usage')\n",
    "    \n",
    "    plt.tight_layout()\n",
    "    plt.savefig(f\"{save_dir}/training_comparison.png\", dpi=300, bbox_inches='tight')\n",
    "    plt.show()\n",
    "    \n",
    "    return fig\n",
    "\n",
    "def create_confusion_matrices(ann_results, snn_results, class_names, save_dir):\n",
    "    \"\"\"Creates comparative confusion matrices\"\"\"\n",
    "    \n",
    "    fig, (ax1, ax2) = plt.subplots(1, 2, figsize=(16, 6))\n",
    "    \n",
    "    # ANN confusion matrix\n",
    "    cm_ann = confusion_matrix(ann_results['final_labels'], ann_results['final_preds'])\n",
    "    sns.heatmap(cm_ann, annot=True, fmt='d', cmap='Blues',\n",
    "                xticklabels=class_names, yticklabels=class_names, ax=ax1)\n",
    "    ax1.set_title(f'ANN - Confusion Matrix\\\\nAccuracy: {ann_results[\"best_val_acc\"]*100:.1f}%')\n",
    "    ax1.set_xlabel('Predictions')\n",
    "    ax1.set_ylabel('True Labels')\n",
    "    \n",
    "    # SNN confusion matrix\n",
    "    cm_snn = confusion_matrix(snn_results['final_labels'], snn_results['final_preds'])\n",
    "    sns.heatmap(cm_snn, annot=True, fmt='d', cmap='Oranges',\n",
    "                xticklabels=class_names, yticklabels=class_names, ax=ax2)\n",
    "    ax2.set_title(f'SNN - Confusion Matrix\\\\nAccuracy: {snn_results[\"best_val_acc\"]*100:.1f}%')\n",
    "    ax2.set_xlabel('Predictions')  \n",
    "    ax2.set_ylabel('True Labels')\n",
    "    \n",
    "    plt.tight_layout()\n",
    "    plt.savefig(f\"{save_dir}/confusion_matrices.png\", dpi=300, bbox_inches='tight')\n",
    "    plt.show()\n",
    "    \n",
    "    return fig\n",
    "\n",
    "# Generating visualizations\n",
    "print(\"\\n Generating visualizations...\")\n",
    "\n",
    "comparison_fig = create_comparison_plots(ann_results, snn_results, config.experiment_dir)\n",
    "confusion_fig = create_confusion_matrices(ann_results, snn_results, train_dataset.classes, config.experiment_dir)\n",
    "\n",
    "print(f\" Charts saved in {config.experiment_dir}\")"
   ]
  },
  {
   "cell_type": "code",
   "execution_count": 13,
   "id": "62f7f035",
   "metadata": {},
   "outputs": [
    {
     "name": "stdout",
     "output_type": "stream",
     "text": [
      "\n",
      " RAPPORTS DE CLASSIFICATION DÉTAILLÉS\n",
      "--------------------------------------------------\n",
      "\n",
      " ANN BASELINE - Classification Report:\n",
      "              precision    recall  f1-score   support\n",
      "\n",
      "       angry       0.39      0.53      0.45       958\n",
      "     disgust       0.30      0.57      0.39       111\n",
      "        fear       0.35      0.23      0.28      1024\n",
      "       happy       0.78      0.74      0.76      1774\n",
      "     neutral       0.47      0.60      0.53      1233\n",
      "         sad       0.45      0.30      0.36      1247\n",
      "    surprise       0.65      0.72      0.68       831\n",
      "\n",
      "    accuracy                           0.53      7178\n",
      "   macro avg       0.48      0.53      0.49      7178\n",
      "weighted avg       0.53      0.53      0.53      7178\n",
      "\n",
      "\n",
      " SNN SIMPLE - Classification Report:\n",
      "              precision    recall  f1-score   support\n",
      "\n",
      "       angry       0.41      0.43      0.42       958\n",
      "     disgust       0.39      0.69      0.50       111\n",
      "        fear       0.36      0.20      0.26      1024\n",
      "       happy       0.75      0.76      0.75      1774\n",
      "     neutral       0.47      0.54      0.50      1233\n",
      "         sad       0.39      0.40      0.40      1247\n",
      "    surprise       0.67      0.73      0.70       831\n",
      "\n",
      "    accuracy                           0.53      7178\n",
      "   macro avg       0.49      0.54      0.50      7178\n",
      "weighted avg       0.52      0.53      0.52      7178\n",
      "\n"
     ]
    }
   ],
   "source": [
    "# =============================================================================\n",
    "# 11. RAPPORTS DÉTAILLÉS\n",
    "# =============================================================================\n",
    "\n",
    "print(\"\\n RAPPORTS DE CLASSIFICATION DÉTAILLÉS\")\n",
    "print(\"-\" * 50)\n",
    "\n",
    "print(\"\\n ANN BASELINE - Classification Report:\")\n",
    "print(classification_report(\n",
    "    ann_results['final_labels'], \n",
    "    ann_results['final_preds'],\n",
    "    target_names=train_dataset.classes,\n",
    "    zero_division=0\n",
    "))\n",
    "\n",
    "print(\"\\n SNN SIMPLE - Classification Report:\")\n",
    "print(classification_report(\n",
    "    snn_results['final_labels'], \n",
    "    snn_results['final_preds'],\n",
    "    target_names=train_dataset.classes,\n",
    "    zero_division=0\n",
    "))\n"
   ]
  },
  {
   "cell_type": "code",
   "execution_count": 17,
   "id": "ceca0a7b",
   "metadata": {},
   "outputs": [
    {
     "name": "stdout",
     "output_type": "stream",
     "text": [
      "\n",
      " RAPPORTS DE CLASSIFICATION DÉTAILLÉS\n",
      "================================================================================\n",
      "\n",
      "🔹 ANN BASELINE - Classification Report:\n",
      "              precision    recall  f1-score   support\n",
      "\n",
      "       angry       0.39      0.53      0.45       958\n",
      "     disgust       0.30      0.57      0.39       111\n",
      "        fear       0.35      0.23      0.28      1024\n",
      "       happy       0.78      0.74      0.76      1774\n",
      "     neutral       0.47      0.60      0.53      1233\n",
      "         sad       0.45      0.30      0.36      1247\n",
      "    surprise       0.65      0.72      0.68       831\n",
      "\n",
      "    accuracy                           0.53      7178\n",
      "   macro avg       0.48      0.53      0.49      7178\n",
      "weighted avg       0.53      0.53      0.53      7178\n",
      "\n",
      "\n",
      "🔹 SNN SIMPLE - Classification Report:\n",
      "              precision    recall  f1-score   support\n",
      "\n",
      "       angry       0.41      0.43      0.42       958\n",
      "     disgust       0.39      0.69      0.50       111\n",
      "        fear       0.36      0.20      0.26      1024\n",
      "       happy       0.75      0.76      0.75      1774\n",
      "     neutral       0.47      0.54      0.50      1233\n",
      "         sad       0.39      0.40      0.40      1247\n",
      "    surprise       0.67      0.73      0.70       831\n",
      "\n",
      "    accuracy                           0.53      7178\n",
      "   macro avg       0.49      0.54      0.50      7178\n",
      "weighted avg       0.52      0.53      0.52      7178\n",
      "\n"
     ]
    }
   ],
   "source": [
    "import pandas as pd\n",
    "pd.set_option('display.max_rows', None)\n",
    "pd.set_option('display.width', None)\n",
    "\n",
    "print(\"\\n RAPPORTS DE CLASSIFICATION DÉTAILLÉS\")\n",
    "print(\"=\" * 80)\n",
    "\n",
    "print(\"\\n🔹 ANN BASELINE - Classification Report:\")\n",
    "ann_report = classification_report(\n",
    "    ann_results['final_labels'],\n",
    "    ann_results['final_preds'],\n",
    "    target_names=train_dataset.classes,\n",
    "    zero_division=0\n",
    ")\n",
    "print(ann_report)\n",
    "\n",
    "print(\"\\n🔹 SNN SIMPLE - Classification Report:\")\n",
    "snn_report = classification_report(\n",
    "    snn_results['final_labels'],\n",
    "    snn_results['final_preds'],\n",
    "    target_names=train_dataset.classes,\n",
    "    zero_division=0\n",
    ")\n",
    "print(snn_report)"
   ]
  },
  {
   "cell_type": "code",
   "execution_count": null,
   "id": "db96a17c",
   "metadata": {},
   "outputs": [
    {
     "name": "stdout",
     "output_type": "stream",
     "text": [
      "\n",
      "==================================================\n",
      " DIAGNOSTIC ET RECOMMANDATIONS\n",
      "==================================================\n",
      " ANALYSE:\n",
      "   Dataset: 28709 images d'entraînement\n",
      "   Déséquilibre: 16.5:1\n",
      "   ANN Baseline: 0.534 (53.4%)\n",
      "   SNN Simple: 0.531 (53.1%)\n",
      "   Ratio Performance: 0.99\n",
      "\n",
      " RECOMMANDATIONS SPÉCIFIQUES:\n",
      " EXCELLENT - Performance compétitive:\n",
      "   1. Prêt pour des architectures plus sophistiquées\n",
      "   2. Implémenter des techniques d'optimisation neuromorphique\n",
      "   3. Tester sur d'autres datasets\n",
      "   4. Optimiser pour l'efficacité énergétique\n",
      "\n",
      " DONNÉES - Déséquilibre sévère détecté:\n",
      "   1. Appliquer SMOTE ou over-sampling\n",
      "   2. Utiliser des loss functions pondérées\n",
      "   3. Collecter plus de données pour les classes minoritaires\n",
      "\n"
     ]
    }
   ],
   "source": [
    "# =============================================================================\n",
    "# 12. DIAGNOSTIC ET RECOMMANDATIONS SPÉCIFIQUES\n",
    "# =============================================================================\n",
    "\n",
    "print(\"\\n\" + \"=\" * 50)\n",
    "print(\" DIAGNOSTIC ET RECOMMANDATIONS\")\n",
    "print(\"=\" * 50)\n",
    "\n",
    "def generate_recommendations(ann_acc, snn_acc, imbalance_ratio):\n",
    "    \"\"\"Génère des recommandations spécifiques basées sur les performances\"\"\"\n",
    "    \n",
    "    recommendations = []\n",
    "    \n",
    "    # Analyse de la qualité des données\n",
    "    if ann_acc < 0.25:\n",
    "        recommendations.extend([\n",
    "            \" CRITIQUE - Qualité des données:\",\n",
    "            \"   1. Vérifier les transformations d'image (resize, normalisation)\",\n",
    "            \"   2. Inspecter manuellement un échantillon d'images\",\n",
    "            \"   3. Vérifier la cohérence des labels\",\n",
    "            \"   4. Considérer un nettoyage du dataset\",\n",
    "            f\"  5. Ratio de déséquilibre: {imbalance_ratio:.1f}:1 - si > 5, ré-équilibrer\",\n",
    "            \"\"\n",
    "        ])\n",
    "    \n",
    "    # Analyse des performances SNN\n",
    "    if snn_acc < 0.15:\n",
    "        recommendations.extend([\n",
    "            \" CRITIQUE - SNN complètement défaillant:\",\n",
    "            \"   1. Réduire num_timesteps à 4-6\",\n",
    "            \"   2. Essayer architecture 'ultra_simple'\",\n",
    "            \"   3. Vérifier la génération de spikes avec des inputs test\",\n",
    "            \"   4. Réduire learning rate SNN à 1e-4\",\n",
    "            \"   5. Essayer des neurones IF au lieu de LIF\",\n",
    "            \"\"\n",
    "        ])\n",
    "    elif snn_acc < ann_acc * 0.4:\n",
    "        recommendations.extend([\n",
    "            \"  WARNING - Gap sévère ANN-SNN:\",\n",
    "            \"   1. Ajuster les paramètres LIF (tau=1.0-1.5, threshold=0.8)\",\n",
    "            \"   2. Essayer différentes fonctions surrogate (Sigmoid vs ATan)\", \n",
    "            \"   3. Augmenter légèrement le learning rate SNN à 8e-4\",\n",
    "            \"   4. Vérifier l'équilibrage temporal des spikes\",\n",
    "            \"\"\n",
    "        ])\n",
    "    elif snn_acc < ann_acc * 0.7:\n",
    "        recommendations.extend([\n",
    "            \" MODÉRÉ - Gap important mais récupérable:\",\n",
    "            \"   1. Fine-tuning des hyperparamètres SNN\",\n",
    "            \"   2. Essayer num_timesteps = 12-16\",\n",
    "            \"   3. Ajouter une couche convolutive\",\n",
    "            \"   4. Expérimenter avec différents optimiseurs\",\n",
    "            \"\"\n",
    "        ])\n",
    "    elif snn_acc < ann_acc * 0.9:\n",
    "        recommendations.extend([\n",
    "            \" BON - Gap modéré, bonnes bases:\",\n",
    "            \"   1. Optimiser l'architecture (plus de profondeur/largeur)\",\n",
    "            \"   2. Ajouter des techniques de régularisation avancées\",\n",
    "            \"   3. Implémenter l'attention temporelle\",\n",
    "            \"   4. Essayer des connexions résiduelles\",\n",
    "            \"\"\n",
    "        ])\n",
    "    else:\n",
    "        recommendations.extend([\n",
    "            \" EXCELLENT - Performance compétitive:\",\n",
    "            \"   1. Prêt pour des architectures plus sophistiquées\",\n",
    "            \"   2. Implémenter des techniques d'optimisation neuromorphique\",\n",
    "            \"   3. Tester sur d'autres datasets\",\n",
    "            \"   4. Optimiser pour l'efficacité énergétique\",\n",
    "            \"\"\n",
    "        ])\n",
    "    \n",
    "    # Recommandations générales\n",
    "    if imbalance_ratio > 5:\n",
    "        recommendations.extend([\n",
    "            \" DONNÉES - Déséquilibre sévère détecté:\",\n",
    "            \"   1. Appliquer SMOTE ou over-sampling\",\n",
    "            \"   2. Utiliser des loss functions pondérées\",\n",
    "            \"   3. Collecter plus de données pour les classes minoritaires\",\n",
    "            \"\"\n",
    "        ])\n",
    "    \n",
    "    return recommendations\n",
    "\n",
    "# Génération des recommandations\n",
    "recommendations = generate_recommendations(ann_best_acc, snn_best_acc, imbalance_ratio)\n",
    "\n",
    "print(\" ANALYSE:\")\n",
    "print(f\"   Dataset: {len(train_dataset)} images d'entraînement\")\n",
    "print(f\"   Déséquilibre: {imbalance_ratio:.1f}:1\")\n",
    "print(f\"   ANN Baseline: {ann_best_acc:.3f} ({ann_best_acc*100:.1f}%)\")\n",
    "print(f\"   SNN Simple: {snn_best_acc:.3f} ({snn_best_acc*100:.1f}%)\")\n",
    "print(f\"   Ratio Performance: {performance_ratio:.2f}\")\n",
    "\n",
    "print(\"\\n RECOMMANDATIONS SPÉCIFIQUES:\")\n",
    "for rec in recommendations:\n",
    "    print(rec)"
   ]
  },
  {
   "cell_type": "code",
   "execution_count": null,
   "id": "95e95078",
   "metadata": {},
   "outputs": [
    {
     "name": "stdout",
     "output_type": "stream",
     "text": [
      "\n",
      "💾 SAUVEGARDE DES RÉSULTATS...\n",
      " Rapport de synthèse: simple_snn_results/20250824_005442/summary_report.json\n",
      " Résultats détaillés: simple_snn_results/20250824_005442/detailed_results.pth\n",
      " Graphiques: simple_snn_results/20250824_005442/training_comparison.png\n",
      " Matrices de confusion: simple_snn_results/20250824_005442/confusion_matrices.png\n",
      "\n",
      "============================================================\n",
      " RÉSUMÉ DE L'EXPÉRIENCE SNN\n",
      "============================================================\n",
      " Expérience terminée le: 2025-08-24 01:24:06\n",
      "📁 Résultats sauvés dans: simple_snn_results/20250824_005442\n",
      "\n",
      " PERFORMANCES FINALES:\n",
      "   ANN Baseline:   53.4% (époque 46)\n",
      "    SNN Simple:     53.1% (époque 50)\n",
      "   Ratio SNN/ANN:  0.99\n",
      "\n",
      " DONNÉES:\n",
      "   Images d'entraînement: 28,709\n",
      "   Images de test:        7,178\n",
      "   Classes:              7\n",
      "   Déséquilibre:         16.5:1\n",
      "\n",
      " SUCCÈS - Les modèles ont des performances exploitables !\n",
      "   Prochaine étape: Optimisation et complexification\n",
      "\n",
      " Consultez les recommandations spécifiques ci-dessus\n",
      " Rapport complet disponible dans simple_snn_results/20250824_005442\n",
      "\n",
      " Expérience terminée avec succès !\n"
     ]
    }
   ],
   "source": [
    "# =============================================================================\n",
    "# 13. SAUVEGARDE DES RÉSULTATS\n",
    "# =============================================================================\n",
    "\n",
    "print(\"\\n SAUVEGARDE DES RÉSULTATS...\")\n",
    "\n",
    "# Création du rapport de synthèse (avec métriques énergétiques)\n",
    "summary_report = {\n",
    "    'experiment_info': {\n",
    "        'timestamp': config.timestamp,\n",
    "        'dataset_path': config.dataset_path,\n",
    "        'dataset_size': len(train_dataset),\n",
    "        'num_classes': config.num_classes,\n",
    "        'class_names': train_dataset.classes,\n",
    "        'imbalance_ratio': float(imbalance_ratio),\n",
    "        'gpu_monitoring': gpu_monitoring\n",
    "    },\n",
    "    'model_configs': {\n",
    "        'ann': {\n",
    "            'architecture': 'BaselineANN',\n",
    "            'parameters': ann_results['model_info']['total_params'],\n",
    "            'learning_rate': config.ann_lr\n",
    "        },\n",
    "        'snn': {\n",
    "            'architecture': config.snn_architecture,\n",
    "            'parameters': snn_results['model_info']['total_params'],\n",
    "            'learning_rate': config.snn_lr,\n",
    "            'timesteps': config.snn_timesteps\n",
    "        }\n",
    "    },\n",
    "    'results': {\n",
    "        'ann_best_accuracy': float(ann_best_acc),\n",
    "        'snn_best_accuracy': float(snn_best_acc),\n",
    "        'performance_ratio': float(performance_ratio),\n",
    "        'ann_best_epoch': int(ann_results['best_epoch']),\n",
    "        'snn_best_epoch': int(snn_results['best_epoch'])\n",
    "    },\n",
    "    'energy_metrics': {},  # Sera rempli si monitoring disponible\n",
    "    'training_history': {\n",
    "        'ann': {\n",
    "            'train_losses': [float(x) for x in ann_results['train_losses']],\n",
    "            'val_losses': [float(x) for x in ann_results['val_losses']],\n",
    "            'train_accs': [float(x) for x in ann_results['train_accs']],\n",
    "            'val_accs': [float(x) for x in ann_results['val_accs']]\n",
    "        },\n",
    "        'snn': {\n",
    "            'train_losses': [float(x) for x in snn_results['train_losses']],\n",
    "            'val_losses': [float(x) for x in snn_results['val_losses']],\n",
    "            'train_accs': [float(x) for x in snn_results['train_accs']],\n",
    "            'val_accs': [float(x) for x in snn_results['val_accs']]\n",
    "        }\n",
    "    },\n",
    "    'recommendations': recommendations\n",
    "}\n",
    "\n",
    "# Ajout des métriques énergétiques si disponibles\n",
    "if gpu_monitoring:\n",
    "    summary_report['energy_metrics'] = {\n",
    "        'ann': {\n",
    "            'avg_power_watts': float(ann_results.get('avg_power', 0)),\n",
    "            'max_power_watts': float(ann_results.get('max_power', 0)),\n",
    "            'avg_memory_gb': float(ann_results.get('avg_memory', 0)),\n",
    "            'power_history': [float(x) for x in ann_results.get('power_usage', [])],\n",
    "            'memory_history': [float(x) for x in ann_results.get('memory_usage', [])]\n",
    "        },\n",
    "        'snn': {\n",
    "            'avg_power_watts': float(snn_results.get('avg_power', 0)),\n",
    "            'max_power_watts': float(snn_results.get('max_power', 0)),\n",
    "            'avg_memory_gb': float(snn_results.get('avg_memory', 0)),\n",
    "            'power_history': [float(x) for x in snn_results.get('power_usage', [])],\n",
    "            'memory_history': [float(x) for x in snn_results.get('memory_usage', [])]\n",
    "        },\n",
    "        'efficiency': {\n",
    "            'ann_accuracy_per_watt': float(ann_efficiency) if 'ann_efficiency' in locals() else 0,\n",
    "            'snn_accuracy_per_watt': float(snn_efficiency) if 'snn_efficiency' in locals() else 0,\n",
    "            'efficiency_ratio_snn_vs_ann': float(efficiency_ratio) if 'efficiency_ratio' in locals() else 0\n",
    "        }\n",
    "    }\n",
    "\n",
    "# Sauvegarde du rapport JSON\n",
    "with open(f\"{config.experiment_dir}/summary_report.json\", 'w') as f:\n",
    "    json.dump(summary_report, f, indent=2)\n",
    "\n",
    "# Sauvegarde des résultats détaillés\n",
    "torch.save({\n",
    "    'ann_results': ann_results,\n",
    "    'snn_results': snn_results,\n",
    "    'config': config_dict,\n",
    "    'summary': summary_report\n",
    "}, f\"{config.experiment_dir}/detailed_results.pth\")\n",
    "\n",
    "print(f\" Rapport de synthèse: {config.experiment_dir}/summary_report.json\")\n",
    "print(f\" Résultats détaillés: {config.experiment_dir}/detailed_results.pth\")\n",
    "print(f\" Graphiques: {config.experiment_dir}/training_comparison.png\")\n",
    "print(f\" Matrices de confusion: {config.experiment_dir}/confusion_matrices.png\")\n",
    "\n",
    "# %%\n",
    "# =============================================================================\n",
    "# 14. RÉSUMÉ FINAL\n",
    "# =============================================================================\n",
    "\n",
    "print(\"\\n\" + \"=\" * 60)\n",
    "print(\" RÉSUMÉ DE L'EXPÉRIENCE SNN\")\n",
    "print(\"=\" * 60)\n",
    "\n",
    "print(f\" Expérience terminée le: {datetime.now().strftime('%Y-%m-%d %H:%M:%S')}\")\n",
    "print(f\" Résultats sauvés dans: {config.experiment_dir}\")\n",
    "\n",
    "print(\"\\n PERFORMANCES FINALES:\")\n",
    "print(f\"   ANN Baseline:  {ann_best_acc*100:5.1f}% (époque {ann_results['best_epoch']+1})\")\n",
    "print(f\"    SNN Simple:    {snn_best_acc*100:5.1f}% (époque {snn_results['best_epoch']+1})\")\n",
    "print(f\"   Ratio SNN/ANN: {performance_ratio:5.2f}\")\n",
    "\n",
    "print(f\"\\n DONNÉES:\")\n",
    "print(f\"   Images d'entraînement: {len(train_dataset):,}\")\n",
    "print(f\"   Images de test:        {len(test_dataset):,}\")\n",
    "print(f\"   Classes:              {len(train_dataset.classes)}\")\n",
    "print(f\"   Déséquilibre:         {imbalance_ratio:.1f}:1\")\n",
    "\n",
    "if ann_best_acc > 0.35 and snn_best_acc > 0.25:\n",
    "    print(\"\\n SUCCÈS - Les modèles ont des performances exploitables !\")\n",
    "    print(\"   Prochaine étape: Optimisation et complexification\")\n",
    "elif ann_best_acc > 0.35:\n",
    "    print(\"\\n⚡ MITIGÉ - ANN fonctionne, SNN à optimiser\")\n",
    "    print(\"   Prochaine étape: Debug et amélioration du SNN\")\n",
    "else:\n",
    "    print(\"\\n PROBLÈME - Performances faibles sur les deux modèles\")\n",
    "    print(\"   Prochaine étape: Analyser et améliorer la qualité des données\")\n",
    "\n",
    "print(f\"\\n Consultez les recommandations spécifiques ci-dessus\")\n",
    "print(f\" Rapport complet disponible dans {config.experiment_dir}\")\n",
    "\n",
    "print(\"\\n Expérience terminée avec succès !\")\n",
    "\n",
    "# %%"
   ]
  },
  {
   "cell_type": "markdown",
   "id": "57c51887",
   "metadata": {},
   "source": [
    "# TEST AVEC LES IMAGES"
   ]
  },
  {
   "cell_type": "code",
   "execution_count": 3,
   "id": "fee07911",
   "metadata": {},
   "outputs": [
    {
     "name": "stdout",
     "output_type": "stream",
     "text": [
      " Models imported successfully\n"
     ]
    }
   ],
   "source": [
    "#!/usr/bin/env python3\n",
    "\"\"\"\n",
    "TERMINAL STYLE IMAGE TESTING\n",
    "=============================\n",
    "\n",
    "Script to test CNN vs SNN models with terminal-style output like your reference image.\n",
    "\"\"\"\n",
    "\n",
    "import torch\n",
    "import torchvision.transforms as transforms\n",
    "from PIL import Image\n",
    "import matplotlib.pyplot as plt\n",
    "import numpy as np\n",
    "import os\n",
    "from pathlib import Path\n",
    "\n",
    "# Import your models\n",
    "try:\n",
    "    from snn_simple2 import (\n",
    "        create_simple_snn,\n",
    "        create_baseline_ann, \n",
    "        reset_snn_state\n",
    "    )\n",
    "    print(\" Models imported successfully\")\n",
    "except ImportError as e:\n",
    "    print(f\" Import error: {e}\")\n",
    "    exit(1)\n"
   ]
  },
  {
   "cell_type": "code",
   "execution_count": null,
   "id": "8d72dc74",
   "metadata": {},
   "outputs": [
    {
     "name": "stdout",
     "output_type": "stream",
     "text": [
      " TERMINAL STYLE CNN vs SNN TEST\n",
      "========================================\n",
      " PyTorch available\n",
      " CUDA available: NVIDIA GeForce RTX 3050 6GB Laptop GPU\n",
      "\n",
      " TERMINAL STYLE TEST MENU\n",
      "===================================\n",
      "1. Test a specific image\n",
      "2. Test a random image from dataset\n",
      "3. Exit\n",
      " Device: cuda\n",
      " Image: /home/dieudo/Projects/Project_Neuro/Fer_Neuromorphique/data/test/sad/PrivateTest_2552088.jpg\n",
      "  True class detected: Sad\n",
      " Image loaded: torch.Size([1, 1, 48, 48])\n",
      "\n",
      "🔧 Creating models...\n",
      "🔧 Création du modèle ANN baseline...\n",
      "✅ Modèle ANN baseline créé\n",
      "   Paramètres totaux: 102,119\n",
      "   Paramètres entraînables: 102,119\n",
      "   Classes: 7\n",
      "🔧 Création du modèle SNN (simple)...\n",
      " Modèle SNN créé avec succès\n",
      "   Architecture: simple\n",
      "   Paramètres totaux: 430,240\n",
      "   Paramètres entraînables: 430,240\n",
      "   Classes: 7\n",
      "   Pas temporels: 8\n",
      "   ⚡ Paramètres tau: tous > 1.0 (SpikingJelly compatible)\n",
      " CNN model loaded: 0.534\n",
      " SNN model loaded: 0.531\n",
      "\n",
      " Making predictions...\n",
      "\n",
      " RESULTS:\n",
      "   True class: Sad\n",
      "   CNN: Sad (31.8%)\n",
      "   SNN: Sad (38.1%)\n",
      "   Both models agree!\n"
     ]
    },
    {
     "name": "stderr",
     "output_type": "stream",
     "text": [
      "/tmp/ipykernel_7365/3566076133.py:64: FutureWarning: You are using `torch.load` with `weights_only=False` (the current default value), which uses the default pickle module implicitly. It is possible to construct malicious pickle data which will execute arbitrary code during unpickling (See https://github.com/pytorch/pytorch/blob/main/SECURITY.md#untrusted-models for more details). In a future release, the default value for `weights_only` will be flipped to `True`. This limits the functions that could be executed during unpickling. Arbitrary objects will no longer be allowed to be loaded via this mode unless they are explicitly allowlisted by the user via `torch.serialization.add_safe_globals`. We recommend you start setting `weights_only=True` for any use case where you don't have full control of the loaded file. Please open an issue on GitHub for any issues related to this experimental feature.\n",
      "  checkpoint = torch.load(ann_path, map_location=device)\n",
      "/tmp/ipykernel_7365/3566076133.py:73: FutureWarning: You are using `torch.load` with `weights_only=False` (the current default value), which uses the default pickle module implicitly. It is possible to construct malicious pickle data which will execute arbitrary code during unpickling (See https://github.com/pytorch/pytorch/blob/main/SECURITY.md#untrusted-models for more details). In a future release, the default value for `weights_only` will be flipped to `True`. This limits the functions that could be executed during unpickling. Arbitrary objects will no longer be allowed to be loaded via this mode unless they are explicitly allowlisted by the user via `torch.serialization.add_safe_globals`. We recommend you start setting `weights_only=True` for any use case where you don't have full control of the loaded file. Please open an issue on GitHub for any issues related to this experimental feature.\n",
      "  checkpoint = torch.load(snn_path, map_location=device)\n"
     ]
    },
    {
     "data": {
      "image/png": "[encoded data removed]",
      "text/plain": [
       "<Figure size 1600x800 with 2 Axes>"
      ]
     },
     "metadata": {},
     "output_type": "display_data"
    },
    {
     "name": "stdout",
     "output_type": "stream",
     "text": [
      " Result saved: terminal_style_result.png\n",
      " Goodbye!\n"
     ]
    }
   ],
   "source": [
    "\n",
    "def load_and_test_single_image(image_path, models_dir=\"simple_snn_results\"):\n",
    "    \"\"\"\n",
    "    Tests a single image with CNN and SNN models in terminal style\n",
    "    \n",
    "    Args:\n",
    "        image_path: Path to the image to test\n",
    "        models_dir: Directory containing trained models\n",
    "    \"\"\"\n",
    "    \n",
    "    device = torch.device('cuda' if torch.cuda.is_available() else 'cpu')\n",
    "    class_names = ['Angry', 'Disgust', 'Fear', 'Happy', 'Neutral', 'Sad', 'Surprise']\n",
    "    \n",
    "    print(f\" Device: {device}\")\n",
    "    print(f\" Image: {image_path}\")\n",
    "    \n",
    "    # Extract true class from path if possible\n",
    "    true_class = None\n",
    "    try:\n",
    "        path_parts = Path(image_path).parts\n",
    "        for part in path_parts:\n",
    "            if part.capitalize() in class_names:\n",
    "                true_class = part.capitalize()\n",
    "                break\n",
    "        if true_class:\n",
    "            print(f\"  True class detected: {true_class}\")\n",
    "    except:\n",
    "        pass\n",
    "    \n",
    "    # Image transformations\n",
    "    transform = transforms.Compose([\n",
    "        transforms.Grayscale(num_output_channels=1),\n",
    "        transforms.Resize((48, 48)),\n",
    "        transforms.ToTensor(),\n",
    "        transforms.Normalize((0.5,), (0.5,))\n",
    "    ])\n",
    "    \n",
    "    # Load image\n",
    "    try:\n",
    "        image = Image.open(image_path)\n",
    "        image_tensor = transform(image).unsqueeze(0).to(device)\n",
    "        print(f\" Image loaded: {image_tensor.shape}\")\n",
    "    except Exception as e:\n",
    "        print(f\" Image loading error: {e}\")\n",
    "        return\n",
    "    \n",
    "    # Create models\n",
    "    print(\"\\n Creating models...\")\n",
    "    ann_model = create_baseline_ann(num_classes=7)\n",
    "    snn_model = create_simple_snn(\"simple\", num_classes=7, num_timesteps=8)\n",
    "    \n",
    "    ann_model = ann_model.to(device)\n",
    "    snn_model = snn_model.to(device)\n",
    "    \n",
    "    # Find and load trained models\n",
    "    results_dir = Path(models_dir)\n",
    "    if results_dir.exists():\n",
    "        experiment_dirs = [d for d in results_dir.iterdir() if d.is_dir()]\n",
    "        if experiment_dirs:\n",
    "            latest_dir = max(experiment_dirs, key=lambda x: x.stat().st_mtime)\n",
    "            \n",
    "            # Load CNN\n",
    "            ann_path = latest_dir / \"best_ann_model.pth\"\n",
    "            if ann_path.exists():\n",
    "                checkpoint = torch.load(ann_path, map_location=device)\n",
    "                ann_model.load_state_dict(checkpoint['model_state_dict'])\n",
    "                print(f\" CNN model loaded: {checkpoint.get('best_val_acc', 0):.3f}\")\n",
    "            else:\n",
    "                print(\" CNN model not found - using random model\")\n",
    "            \n",
    "            # Load SNN\n",
    "            snn_path = latest_dir / \"best_snn_model.pth\" \n",
    "            if snn_path.exists():\n",
    "                checkpoint = torch.load(snn_path, map_location=device)\n",
    "                snn_model.load_state_dict(checkpoint['model_state_dict'])\n",
    "                print(f\" SNN model loaded: {checkpoint.get('best_val_acc', 0):.3f}\")\n",
    "            else:\n",
    "                print(\"  SNN model not found - using random model\")\n",
    "        else:\n",
    "            print(\"  No experiment directory found - using random models\")\n",
    "    else:\n",
    "        print(\"  Results directory not found - using random models\")\n",
    "    \n",
    "    # Set to evaluation mode\n",
    "    ann_model.eval()\n",
    "    snn_model.eval()\n",
    "    \n",
    "    # Make predictions\n",
    "    print(\"\\n Making predictions...\")\n",
    "    with torch.no_grad():\n",
    "        # CNN prediction\n",
    "        ann_logits = ann_model(image_tensor)\n",
    "        ann_probs = torch.softmax(ann_logits, dim=1)\n",
    "        ann_pred = torch.argmax(ann_probs, dim=1).item()\n",
    "        ann_confidence = torch.max(ann_probs, dim=1)[0].item()\n",
    "        \n",
    "        # SNN prediction\n",
    "        reset_snn_state(snn_model)\n",
    "        snn_logits = snn_model(image_tensor)\n",
    "        snn_probs = torch.softmax(snn_logits, dim=1)\n",
    "        snn_pred = torch.argmax(snn_probs, dim=1).item()\n",
    "        snn_confidence = torch.max(snn_probs, dim=1)[0].item()\n",
    "    \n",
    "    # Display results\n",
    "    print(f\"\\n RESULTS:\")\n",
    "    if true_class:\n",
    "        print(f\"   True class: {true_class}\")\n",
    "    print(f\"   CNN: {class_names[ann_pred]} ({ann_confidence:.1%})\")\n",
    "    print(f\"   SNN: {class_names[snn_pred]} ({snn_confidence:.1%})\")\n",
    "    \n",
    "    if ann_pred == snn_pred:\n",
    "        print(f\"   Both models agree!\")\n",
    "    else:\n",
    "        print(f\"    Models disagree\")\n",
    "    \n",
    "    # Create terminal-style visualization\n",
    "    create_terminal_style_visualization(\n",
    "        image, image_tensor, true_class,\n",
    "        ann_pred, ann_confidence, ann_probs,\n",
    "        snn_pred, snn_confidence, snn_probs,\n",
    "        class_names\n",
    "    )\n",
    "\n",
    "def create_terminal_style_visualization(original_image, tensor_image, true_class,\n",
    "                                      ann_pred, ann_conf, ann_probs,\n",
    "                                      snn_pred, snn_conf, snn_probs, class_names):\n",
    "    \"\"\"Creates terminal-style visualization like your reference image\"\"\"\n",
    "    \n",
    "    # Prepare image for display\n",
    "    img_display = tensor_image.squeeze().cpu().numpy()\n",
    "    img_display = (img_display + 1) / 2  # Denormalize [-1,1] -> [0,1]\n",
    "    \n",
    "    # Create figure with black background\n",
    "    plt.style.use('dark_background')\n",
    "    fig, axes = plt.subplots(1, 2, figsize=(16, 8))\n",
    "    fig.patch.set_facecolor('black')\n",
    "    \n",
    "    # Main title with true class (if available)\n",
    "    if true_class:\n",
    "        fig.suptitle(f\"True Label: {true_class}\", fontsize=16, color='white', y=0.95)\n",
    "    else:\n",
    "        fig.suptitle(\"CNN vs SNN Comparison\", fontsize=16, color='white', y=0.95)\n",
    "    \n",
    "    # Get probabilities as numpy arrays\n",
    "    cnn_probs_np = ann_probs.squeeze().cpu().numpy()\n",
    "    snn_probs_np = snn_probs.squeeze().cpu().numpy()\n",
    "    \n",
    "    # Left panel: CNN\n",
    "    axes[0].imshow(img_display, cmap='viridis', aspect='equal')\n",
    "\n",
    "    # Create terminal-style probability text for CNN\n",
    "    prob_text = \"Predictions:\\n\"\n",
    "    for i, (name, prob) in enumerate(zip(class_names, cnn_probs_np)):\n",
    "        prob_text += f\"{name}: {prob*100:.1f}%\\n\"\n",
    "    \n",
    "    # Add text box at top with terminal style\n",
    "    axes[0].text(0.02, 0.98, prob_text.strip(), \n",
    "                transform=axes[0].transAxes, fontsize=10,\n",
    "                verticalalignment='top', color='lime',\n",
    "                bbox=dict(boxstyle='square,pad=0.5', facecolor='black', \n",
    "                         edgecolor='lime', linewidth=1),\n",
    "                fontfamily='monospace')\n",
    "    \n",
    "    # Add prediction box in center like your reference\n",
    "    pred_text = f\"{class_names[ann_pred]} ({ann_conf:.1%})\"\n",
    "    axes[0].text(0.03, 0.75, pred_text, \n",
    "                transform=axes[0].transAxes, fontsize=14,\n",
    "                #horizontalalignment='center', \n",
    "                verticalalignment='top',\n",
    "                color='lime', fontweight='bold',\n",
    "                bbox=dict(boxstyle='round,pad=0.5', facecolor='black', \n",
    "                         edgecolor='lime', linewidth=2),\n",
    "                fontfamily='monospace')\n",
    "    \n",
    "    axes[0].set_title(\"CNN\", color='cyan', fontsize=14, pad=10)\n",
    "    axes[0].axis('off')\n",
    "    \n",
    "    # Right panel: SNN\n",
    "    axes[1].imshow(img_display, cmap='viridis', aspect='equal')\n",
    "\n",
    "    # Create terminal-style probability text for SNN\n",
    "    prob_text = \"Predictions:\\n\"\n",
    "    for i, (name, prob) in enumerate(zip(class_names, snn_probs_np)):\n",
    "        prob_text += f\"{name}: {prob*100:.1f}%\\n\"\n",
    "    \n",
    "    # Add text box at top with terminal style\n",
    "    axes[1].text(0.02, 0.98, prob_text.strip(), \n",
    "                transform=axes[1].transAxes, fontsize=10,\n",
    "                verticalalignment='top', color='orange',\n",
    "                bbox=dict(boxstyle='square,pad=0.5', facecolor='black', \n",
    "                         edgecolor='orange', linewidth=1),\n",
    "                fontfamily='monospace')\n",
    "    \n",
    "    # Add prediction box in center\n",
    "    pred_text = f\"{class_names[snn_pred]} ({snn_conf:.1%})\"\n",
    "    axes[1].text(0.03, 0.75, pred_text, \n",
    "                transform=axes[1].transAxes, fontsize=14,\n",
    "                verticalalignment='top', \n",
    "                #horizontalalignment='center',\n",
    "                color='orange', fontweight='bold',\n",
    "                bbox=dict(boxstyle='round,pad=0.5', facecolor='black', \n",
    "                         edgecolor='orange', linewidth=2),\n",
    "                fontfamily='monospace')\n",
    "    \n",
    "    axes[1].set_title(\"SNN\", color='orange', fontsize=14, pad=10)\n",
    "    axes[1].axis('off')\n",
    "    \n",
    "    plt.tight_layout()\n",
    "    plt.savefig(\"terminal_style_result.png\", dpi=300, bbox_inches='tight', \n",
    "                facecolor=\"blue\", edgecolor='none')\n",
    "    plt.show()\n",
    "    \n",
    "    print(f\" Result saved: terminal_style_result.png\")\n",
    "\n",
    "def test_random_from_dataset(dataset_path=\"/home/dieudo/Projects/Project_Neuro/Fer_Neuromorphique/data\"):\n",
    "    \"\"\"Tests a random image from the dataset\"\"\"\n",
    "    \n",
    "    test_dir = Path(dataset_path) / \"test\"\n",
    "    if not test_dir.exists():\n",
    "        print(f\" Test directory not found: {test_dir}\")\n",
    "        return\n",
    "    \n",
    "    # Find all images\n",
    "    image_extensions = ['.jpg', '.jpeg', '.png', '.bmp']\n",
    "    all_images = []\n",
    "    \n",
    "    for class_dir in test_dir.iterdir():\n",
    "        if class_dir.is_dir():\n",
    "            for img_path in class_dir.iterdir():\n",
    "                if img_path.suffix.lower() in image_extensions:\n",
    "                    all_images.append(img_path)\n",
    "    \n",
    "    if not all_images:\n",
    "        print(f\" No images found in {test_dir}\")\n",
    "        return\n",
    "    \n",
    "    # Choose a random image\n",
    "    random_image = np.random.choice(all_images)\n",
    "    true_class = random_image.parent.name\n",
    "    \n",
    "    print(f\" Random image selected:\")\n",
    "    print(f\"   File: {random_image.name}\")\n",
    "    print(f\"   True class: {true_class}\")\n",
    "    \n",
    "    # Test the image\n",
    "    load_and_test_single_image(str(random_image))\n",
    "\n",
    "def interactive_menu():\n",
    "    \"\"\"Interactive menu to choose test type\"\"\"\n",
    "    \n",
    "    print(\"\\n TERMINAL STYLE TEST MENU\")\n",
    "    print(\"=\" * 35)\n",
    "    print(\"1. Test a specific image\")\n",
    "    print(\"2. Test a random image from dataset\")\n",
    "    print(\"3. Exit\")\n",
    "    \n",
    "    while True:\n",
    "        try:\n",
    "            choice = input(\"\\nYour choice (1-3): \").strip()\n",
    "            \n",
    "            if choice == '1':\n",
    "                img_path = input(\"Image path: \").strip()\n",
    "                if os.path.exists(img_path):\n",
    "                    load_and_test_single_image(img_path)\n",
    "                else:\n",
    "                    print(\" File not found\")\n",
    "                    \n",
    "            elif choice == '2':\n",
    "                test_random_from_dataset()\n",
    "                \n",
    "            elif choice == '3':\n",
    "                print(\" Goodbye!\")\n",
    "                break\n",
    "                \n",
    "            else:\n",
    "                print(\" Invalid choice\")\n",
    "                \n",
    "        except KeyboardInterrupt:\n",
    "            print(\"\\n Interrupted by user\")\n",
    "            break\n",
    "        except Exception as e:\n",
    "            print(f\" Error: {e}\")\n",
    "\n",
    "if __name__ == \"__main__\":\n",
    "    print(\" TERMINAL STYLE CNN vs SNN TEST\")\n",
    "    print(\"=\" * 40)\n",
    "    \n",
    "    # Check that modules are available\n",
    "    try:\n",
    "        # Quick import test\n",
    "        test_tensor = torch.randn(1, 1, 48, 48)\n",
    "        print(\" PyTorch available\")\n",
    "        \n",
    "        # Check CUDA\n",
    "        if torch.cuda.is_available():\n",
    "            print(f\" CUDA available: {torch.cuda.get_device_name()}\")\n",
    "        else:\n",
    "            print(\"  CUDA not available, using CPU\")\n",
    "            \n",
    "        # Interactive menu\n",
    "        interactive_menu()\n",
    "        \n",
    "    except Exception as e:\n",
    "        print(f\" Initialization error: {e}\")\n",
    "        import traceback\n",
    "        traceback.print_exc()"
   ]
  }
 ],
 "metadata": {
  "kernelspec": {
   "display_name": "env_cp",
   "language": "python",
   "name": "python3"
  },
  "language_info": {
   "codemirror_mode": {
    "name": "ipython",
    "version": 3
   },
   "file_extension": ".py",
   "mimetype": "text/x-python",
   "name": "python",
   "nbconvert_exporter": "python",
   "pygments_lexer": "ipython3",
   "version": "3.12.3"
  }
 },
 "nbformat": 4,
 "nbformat_minor": 5
}
